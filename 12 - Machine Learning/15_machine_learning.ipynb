{
 "cells": [
  {
   "cell_type": "markdown",
   "metadata": {},
   "source": [
    "# Chapter 08: *Machine Learning*\n",
    "\n",
    "**ML**: Something given input then it gives output according to our needs depending upon our data\n",
    "## Hot Areas of AI\n",
    "\n",
    "- Retail\n",
    "- Travel\n",
    "- Transport & logistics\n",
    "- Automotive & assembly\n",
    "- Basic materiqlw\n",
    "- Advanced Electronics/ Semiconductors\n",
    "- Healthcare systems and servuces\n",
    "- High Tech\n",
    "- Telecom\n",
    "- Oil and Gas\n",
    "- Agriculture\n",
    "\n",
    "\n",
    "## Data Sciences v/s AI\n",
    "\n",
    "|Size of house(Sq. ft) |# of bedrooms|# of bathrooms|Newly Renovated| Price(1000$)|\n",
    "|----|----|----|----|----|\n",
    "|523|1|2|N|115|\n",
    "|645|1|3|N|150|\n",
    "|708|2|1|N|210|\n",
    "|1034|3|3|Y|280|\n",
    "|2290|4|4|N|355|\n",
    "|2545|4|5|Y|440|\n",
    "|A|A|A|A|B|\n",
    "\n",
    "### Running AI System\n",
    "\n",
    "A software that which automatically returns output B for input A.\n",
    "\n",
    "If you have an AI system running, serving dozens or hundreds of thousands or millions of users, that usually a machine-learning system.\n",
    "\n",
    "### Data Science\n",
    "if you want to have a team analyze your dataset in order to gain insights. The output of a data science project is a set of insights that can help you make business decisions.\n",
    "\n",
    "So, a team might come up with conclusions like:\n",
    "- \"Hey, did you know if you have two houses of a similar size, they`ve a similar square footage, if house has three bedrooms, then they cost a lot more that the house of two bedrooms, even if the square for this is the same.\n",
    "\n",
    "\n",
    "#### Lets play A simple game example of AI in Humans\n",
    "|Input|Output|\n",
    "|---|---|\n",
    "|2|5|\n",
    "|3|7|\n",
    "|4|9|\n",
    "|6|?|\n",
    "\n",
    "- So ML will help us as;\n",
    "  -   Y = 2X + 1\n",
    "\n",
    "## understanding how deep learning works with the example;\n",
    "\n",
    "- Y = WX + B\n",
    "      - Where,\n",
    "          - Y is output\n",
    "          - X is input\n",
    "          - W are the weights\n",
    "          - B is biasing\n",
    "\n",
    "**so,**\n",
    "\n",
    "|Input|Output|Predicted output|Difference(Loss)|\n",
    "|---|---|---|---|\n",
    "|2|5|2.5|2.5|\n",
    "|3|7|3.5|3.5|\n",
    "|4|9|4.5|4.5|\n",
    "|6|13|6.5|6.5|\n",
    "\n",
    "Total Loss = 17\n",
    "\n",
    "So, W = 1\n",
    "\n",
    "B = 0.5\n",
    "\n",
    "Y = 1X+0.5\n",
    "\n",
    "SO, machine has to understand that this loss has to be zero or minimum close to zero.\n",
    "\n",
    "**so it goes as**;\n",
    "\n",
    "|Input|Output|Predicted output|Difference(Loss)|\n",
    "|---|---|---|---|\n",
    "|2|5|4.5|0.5|\n",
    "|3|7|6.5|0.5|\n",
    "|4|9|8.5|0.5|\n",
    "|6|13|12..5|0.5|\n",
    "\n",
    "Total Loss = 2\n",
    "\n",
    "So, W = 2\n",
    "\n",
    "B = 0.5\n",
    "\n",
    "Y = 2X+0.5\n",
    "\n",
    "SO, machine has understand that this loss has to be zero or minimum close to zero.\n",
    "\n",
    "**so it goes as;**\n",
    "\n",
    "|Input|Output|Predicted output|Difference(Loss)|\n",
    "|---|---|---|---|\n",
    "|2|5|5.5|-0.5|\n",
    "|3|7|7.5|-0.5|\n",
    "|4|9|9.5|-0.5|\n",
    "|6|13|13.5|-0.5|\n",
    "\n",
    "Total Loss = -2\n",
    "\n",
    "So, W = 2\n",
    "\n",
    "B = 1.5\n",
    "\n",
    "Y = 2X+1.5\n",
    "\n",
    "\n",
    "**so, it goeas as follows**\n",
    "**by hit and trial method; machine goes on learning**\n",
    "|Input|Output|Predicted output|Difference(Loss)|\n",
    "|---|---|---|---|\n",
    "|2|5|5|0|\n",
    "|3|7|7|0|\n",
    "|4|9|9|0|\n",
    "|6|13|13|0|\n",
    "\n",
    "Total Loss = 0\n",
    "\n",
    "So, W = 2\n",
    "\n",
    "B = 1\n",
    "\n",
    "Y = 2X+1\n",
    "\n",
    "This is what machine has learned so far that the columns match. input and output from previous data.\n",
    "\n",
    "### AI vs ML\n",
    "\n",
    "AI: if else commands written manually for specific inputs for some output to provide is AI.\n",
    "\n",
    "ML: if some thing is data driven and involves data driven decisions with data driven input.\n",
    "\n",
    "# Hands-on Training for Machine Learning\n",
    "\n",
    "### Machine Learning: Simple Linear Regression with Python\n",
    "\n",
    "\n",
    "\n"
   ]
  },
  {
   "cell_type": "code",
   "execution_count": 65,
   "metadata": {},
   "outputs": [],
   "source": [
    "# importing libraries\n",
    "# installing scikit\n",
    "import numpy as np\n",
    "import matplotlib.pyplot as plt\n",
    "import pandas as pd\n",
    "import seaborn as sns\n",
    "\n",
    "# Importing the dataset\n",
    "dataset = pd.read_csv('mldata2.csv')\n",
    "X = dataset.iloc[:, :-1].values #get a copy of dataset exclude last column\n",
    "y = dataset.iloc[:, 1].values #get array of dataset in column 1st"
   ]
  },
  {
   "cell_type": "code",
   "execution_count": 66,
   "metadata": {},
   "outputs": [
    {
     "data": {
      "text/plain": [
       "<AxesSubplot:xlabel='weight', ylabel='age'>"
      ]
     },
     "execution_count": 66,
     "metadata": {},
     "output_type": "execute_result"
    },
    {
     "data": {
      "image/png": "[encoded data removed]",
      "text/plain": [
       "<Figure size 432x288 with 1 Axes>"
      ]
     },
     "metadata": {
      "needs_background": "light"
     },
     "output_type": "display_data"
    }
   ],
   "source": [
    "sns.scatterplot(data=dataset, x= \"weight\", y=\"age\")"
   ]
  },
  {
   "cell_type": "code",
   "execution_count": 67,
   "metadata": {},
   "outputs": [],
   "source": [
    "# Splitting the dataset into the Training set and Test set\n",
    "from sklearn.model_selection import train_test_split \n",
    "X_train, X_test, y_train, y_test = train_test_split(X, y, test_size=1/3, random_state=0)"
   ]
  },
  {
   "cell_type": "code",
   "execution_count": 68,
   "metadata": {},
   "outputs": [
    {
     "data": {
      "text/plain": [
       "LinearRegression()"
      ]
     },
     "execution_count": 68,
     "metadata": {},
     "output_type": "execute_result"
    }
   ],
   "source": [
    "# Fitting Simple Linear Regression to the Training set\n",
    "from sklearn.linear_model import LinearRegression\n",
    "regressor = LinearRegression()\n",
    "regressor.fit(X_train, y_train)"
   ]
  },
  {
   "cell_type": "code",
   "execution_count": 69,
   "metadata": {},
   "outputs": [],
   "source": [
    "\n",
    "# Predicting the result of 60 weight\n",
    "y_pred = regressor.predict(X_test)"
   ]
  },
  {
   "cell_type": "code",
   "execution_count": 70,
   "metadata": {},
   "outputs": [
    {
     "data": {
      "text/plain": [
       "array([29.96677624, 26.62903655, 28.65874312, 27.8017559 , 30.05698542,\n",
       "       28.79405689, 26.98987327, 27.08008245, 27.26050082, 28.43322016,\n",
       "       29.51573033, 27.35071   , 30.05698542, 28.63168036, 30.95907722,\n",
       "       27.83783957, 28.88426607, 30.77865886, 27.12518704, 28.61363853,\n",
       "       28.79405689, 29.78635787, 28.88426607, 29.33531197, 30.86886804,\n",
       "       29.69614869, 27.53112836, 30.01188083, 28.79405689, 29.51573033,\n",
       "       29.69614869, 28.07238344, 26.26819983, 27.53112836, 27.71154672,\n",
       "       30.50803132, 26.66512022, 27.08008245, 27.89196508, 30.23740378,\n",
       "       28.43322016, 26.62903655, 29.06468443, 26.89966409, 26.26819983,\n",
       "       26.89966409, 30.23740378, 28.56853393, 27.98217426, 29.15489361,\n",
       "       28.16259262, 30.95907722, 28.88426607, 27.71154672, 28.2528018 ,\n",
       "       27.35071   , 23.10366177, 29.78635787, 29.06468443, 26.62903655,\n",
       "       31.31991395, 26.33134625, 28.43322016, 27.17029163, 27.53112836,\n",
       "       27.71154672, 26.44861819, 30.05698542, 26.89966409, 30.50803132,\n",
       "       30.23740378, 28.70384771, 29.87656705, 28.16259262, 28.2528018 ,\n",
       "       27.8017559 , 29.33531197, 26.71022481, 28.43322016, 27.44091918,\n",
       "       27.17029163, 29.69614869])"
      ]
     },
     "execution_count": 70,
     "metadata": {},
     "output_type": "execute_result"
    }
   ],
   "source": [
    "y_pred"
   ]
  },
  {
   "cell_type": "code",
   "execution_count": 71,
   "metadata": {},
   "outputs": [
    {
     "data": {
      "image/png": "[encoded data removed]",
      "text/plain": [
       "<Figure size 432x288 with 1 Axes>"
      ]
     },
     "metadata": {
      "needs_background": "light"
     },
     "output_type": "display_data"
    }
   ],
   "source": [
    "# Visualizing the Training set results\n",
    "viz_train = plt\n",
    "viz_train.scatter(X_train, y_train, color='red')\n",
    "viz_train.plot(X_train, regressor.predict(X_train), color='blue')\n",
    "viz_train.title('Age vs Weight (Training set)')\n",
    "viz_train.xlabel('Weight')\n",
    "viz_train.ylabel('Age')\n",
    "viz_train.show()\n",
    "\n"
   ]
  },
  {
   "cell_type": "code",
   "execution_count": 72,
   "metadata": {},
   "outputs": [
    {
     "data": {
      "image/png": "[encoded data removed]",
      "text/plain": [
       "<Figure size 432x288 with 1 Axes>"
      ]
     },
     "metadata": {
      "needs_background": "light"
     },
     "output_type": "display_data"
    }
   ],
   "source": [
    "# Visualizing the Test set results\n",
    "viz_test = plt\n",
    "viz_test.scatter(X_test, y_test, color='red')\n",
    "viz_test.plot(X_train, regressor.predict(X_train), color='blue')\n",
    "viz_test.title('Age vs Weight  (Test set)')\n",
    "viz_test.xlabel('Weight')\n",
    "viz_test.ylabel('Age')\n",
    "viz_test.show()"
   ]
  },
  {
   "cell_type": "code",
   "execution_count": 74,
   "metadata": {},
   "outputs": [
    {
     "name": "stdout",
     "output_type": "stream",
     "text": [
      "[28.43322016]\n"
     ]
    }
   ],
   "source": [
    "y_pred = regressor.predict(np.array([70]).reshape(1, 1))\n",
    "print(y_pred)\n"
   ]
  }
 ],
 "metadata": {
  "interpreter": {
   "hash": "18356a1fc69854ab157a114089e0ab91e679603d3ee092b990c09ee18435de1b"
  },
  "kernelspec": {
   "display_name": "Python 3.10.1 64-bit",
   "language": "python",
   "name": "python3"
  },
  "language_info": {
   "codemirror_mode": {
    "name": "ipython",
    "version": 3
   },
   "file_extension": ".py",
   "mimetype": "text/x-python",
   "name": "python",
   "nbconvert_exporter": "python",
   "pygments_lexer": "ipython3",
   "version": "3.10.1"
  },
  "orig_nbformat": 4
 },
 "nbformat": 4,
 "nbformat_minor": 2
}
