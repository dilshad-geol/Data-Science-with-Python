{
 "cells": [
  {
   "cell_type": "markdown",
   "metadata": {},
   "source": [
    "# PYTHON KA CHILLA\n",
    "## INSTRUCTOR  : Dr. AAMMAR TUFAIL\n",
    "## PARTICIPANT : DILSHAD RAZA\n",
    "\n",
    "# Support Vector Machines (SVM)\n",
    "It is a classsifier (SVM) \\\n",
    "Use: Classification technique \\\n",
    "Def: SVM is a supervised Algorithm that classifies the cases by finding a separator.\n",
    "\n",
    "1. Map data to high dimensional feature space\n",
    "2. Finding a separator\n",
    "   1. Separator can be hyperplane.\n",
    "   2. (Its easier to separate a case in 3D environment)\n",
    "3. SVM gives us a optional hyperplane that categorized prediction. (Line of separation is called as hyperplane)\n",
    "\n",
    "**DATA TRANFORMATION**\\\n",
    "1d--> Non Linear Separation(Separator) ====> 2d---> Linearly Separated \\\n",
    "if converts it into 3d then it can be separated hyperplane.\\\n",
    "This will help us to classify new cases.\\\n",
    "When we map data into higher dimentional space is called **Kernelling.** \\\n",
    "1d--->2D-->3D(Kernelling)\\\n",
    "**Kernelling Function:** used to transform one Dimensional data to two or three dimensional data.(phi(x)=(x,x^2))\\\n",
    "**Types of Kernelling Function**:\n",
    "- Linear\n",
    "- Polynomial\n",
    "- RBF\n",
    "- Sigmoid\\\n",
    "**Test all and choose the best** one.\\\n",
    "**SVM** to find the best hyperplane/separator(Right and optimized hyperplane)\n",
    "- Based on finding a hyperplane that best divides the data into two classes.\n",
    "- bigger margins as possible.\\\n",
    "**Support vectors (SVs)** are closest to the hyperplanes.\n",
    "- Hyperplanes is selected based on MAximum distance to support vectors(SVs)\n",
    "\n",
    "- USe equation:\n",
    "  - Assignment 22:16, ML_Day_30 the equation of a hyperplane  can be written (wTx=0) so, Any hyperplane can be written as the set of points x satisfying (w *x + b = 0)\n",
    "\n",
    "- Calculate a new point, and check if it is above or below the line.\n",
    "  - if predicted value is greater than 0, then its above class.\n",
    "  - if predicted value is lesser than 0, then its below class.\n",
    "\n",
    "**PROS:**\n",
    "- Accurate in high dimensional spaces\n",
    "- Use subset of training point in decision function called Support vectors\n",
    "  - Not whole data so,\n",
    "  - Memory efficient\n",
    "\n",
    "**CONS:**\n",
    "- Overfitting only if no. of features > no of samples.\n",
    "- SVM donot provide probability estimation\n",
    "  - might be required for some classification methods\n",
    "- Not good for big datasets, for computation purposes.(>1000 rows)\n",
    "\n",
    "**SVM APPLICATIONS:**\n",
    "- Image Recognition\n",
    "  - Image classification\n",
    "  - Handwriting recognition\n",
    "- Text mining\n",
    "  - deals with high dimensional tesks\n",
    "    - Detecting spam emails\n",
    "    - assigning text category (sad, high, great, best)\n",
    "  - Sentimental analysis\n",
    "      - Reviews on amazon \n",
    "- Gene expression data classification\n",
    "  - blood pressure(high, or low)\n",
    "- Regression, outliers detection and clustering.\n",
    "\n",
    "# Python CODEs for SVM:"
   ]
  },
  {
   "cell_type": "code",
   "execution_count": 1,
   "metadata": {},
   "outputs": [],
   "source": [
    "# import scikit learn data set library\n",
    "from sklearn import datasets\n",
    "#load data set\n",
    "cancer = datasets.load_breast_cancer()"
   ]
  },
  {
   "cell_type": "code",
   "execution_count": 2,
   "metadata": {},
   "outputs": [
    {
     "name": "stdout",
     "output_type": "stream",
     "text": [
      "Features:   ['mean radius' 'mean texture' 'mean perimeter' 'mean area'\n",
      " 'mean smoothness' 'mean compactness' 'mean concavity'\n",
      " 'mean concave points' 'mean symmetry' 'mean fractal dimension'\n",
      " 'radius error' 'texture error' 'perimeter error' 'area error'\n",
      " 'smoothness error' 'compactness error' 'concavity error'\n",
      " 'concave points error' 'symmetry error' 'fractal dimension error'\n",
      " 'worst radius' 'worst texture' 'worst perimeter' 'worst area'\n",
      " 'worst smoothness' 'worst compactness' 'worst concavity'\n",
      " 'worst concave points' 'worst symmetry' 'worst fractal dimension']\n",
      "Labels:   ['malignant' 'benign']\n"
     ]
    }
   ],
   "source": [
    "# print the names of 13 features\n",
    "print(\"Features:  \", cancer.feature_names)\n",
    "\n",
    "# print label type of cancer (malignant, benign)\n",
    "print(\"Labels:  \", cancer.target_names)"
   ]
  },
  {
   "cell_type": "code",
   "execution_count": 3,
   "metadata": {},
   "outputs": [
    {
     "data": {
      "text/plain": [
       "(569, 30)"
      ]
     },
     "execution_count": 3,
     "metadata": {},
     "output_type": "execute_result"
    }
   ],
   "source": [
    "# print data (feature) shape\n",
    "cancer.data.shape"
   ]
  },
  {
   "cell_type": "code",
   "execution_count": 4,
   "metadata": {},
   "outputs": [
    {
     "name": "stdout",
     "output_type": "stream",
     "text": [
      "[[1.799e+01 1.038e+01 1.228e+02 1.001e+03 1.184e-01 2.776e-01 3.001e-01\n",
      "  1.471e-01 2.419e-01 7.871e-02 1.095e+00 9.053e-01 8.589e+00 1.534e+02\n",
      "  6.399e-03 4.904e-02 5.373e-02 1.587e-02 3.003e-02 6.193e-03 2.538e+01\n",
      "  1.733e+01 1.846e+02 2.019e+03 1.622e-01 6.656e-01 7.119e-01 2.654e-01\n",
      "  4.601e-01 1.189e-01]\n",
      " [2.057e+01 1.777e+01 1.329e+02 1.326e+03 8.474e-02 7.864e-02 8.690e-02\n",
      "  7.017e-02 1.812e-01 5.667e-02 5.435e-01 7.339e-01 3.398e+00 7.408e+01\n",
      "  5.225e-03 1.308e-02 1.860e-02 1.340e-02 1.389e-02 3.532e-03 2.499e+01\n",
      "  2.341e+01 1.588e+02 1.956e+03 1.238e-01 1.866e-01 2.416e-01 1.860e-01\n",
      "  2.750e-01 8.902e-02]\n",
      " [1.969e+01 2.125e+01 1.300e+02 1.203e+03 1.096e-01 1.599e-01 1.974e-01\n",
      "  1.279e-01 2.069e-01 5.999e-02 7.456e-01 7.869e-01 4.585e+00 9.403e+01\n",
      "  6.150e-03 4.006e-02 3.832e-02 2.058e-02 2.250e-02 4.571e-03 2.357e+01\n",
      "  2.553e+01 1.525e+02 1.709e+03 1.444e-01 4.245e-01 4.504e-01 2.430e-01\n",
      "  3.613e-01 8.758e-02]\n",
      " [1.142e+01 2.038e+01 7.758e+01 3.861e+02 1.425e-01 2.839e-01 2.414e-01\n",
      "  1.052e-01 2.597e-01 9.744e-02 4.956e-01 1.156e+00 3.445e+00 2.723e+01\n",
      "  9.110e-03 7.458e-02 5.661e-02 1.867e-02 5.963e-02 9.208e-03 1.491e+01\n",
      "  2.650e+01 9.887e+01 5.677e+02 2.098e-01 8.663e-01 6.869e-01 2.575e-01\n",
      "  6.638e-01 1.730e-01]\n",
      " [2.029e+01 1.434e+01 1.351e+02 1.297e+03 1.003e-01 1.328e-01 1.980e-01\n",
      "  1.043e-01 1.809e-01 5.883e-02 7.572e-01 7.813e-01 5.438e+00 9.444e+01\n",
      "  1.149e-02 2.461e-02 5.688e-02 1.885e-02 1.756e-02 5.115e-03 2.254e+01\n",
      "  1.667e+01 1.522e+02 1.575e+03 1.374e-01 2.050e-01 4.000e-01 1.625e-01\n",
      "  2.364e-01 7.678e-02]]\n"
     ]
    }
   ],
   "source": [
    "# print the cancer data features(top 5 records)\n",
    "print(cancer.data[0:5])"
   ]
  },
  {
   "cell_type": "code",
   "execution_count": 5,
   "metadata": {},
   "outputs": [
    {
     "name": "stdout",
     "output_type": "stream",
     "text": [
      "[0 0 0 0 0 0 0 0 0 0 0 0 0 0 0 0 0 0 0 1 1 1 0 0 0 0 0 0 0 0 0 0 0 0 0 0 0\n",
      " 1 0 0 0 0 0 0 0 0 1 0 1 1 1 1 1 0 0 1 0 0 1 1 1 1 0 1 0 0 1 1 1 1 0 1 0 0\n",
      " 1 0 1 0 0 1 1 1 0 0 1 0 0 0 1 1 1 0 1 1 0 0 1 1 1 0 0 1 1 1 1 0 1 1 0 1 1\n",
      " 1 1 1 1 1 1 0 0 0 1 0 0 1 1 1 0 0 1 0 1 0 0 1 0 0 1 1 0 1 1 0 1 1 1 1 0 1\n",
      " 1 1 1 1 1 1 1 1 0 1 1 1 1 0 0 1 0 1 1 0 0 1 1 0 0 1 1 1 1 0 1 1 0 0 0 1 0\n",
      " 1 0 1 1 1 0 1 1 0 0 1 0 0 0 0 1 0 0 0 1 0 1 0 1 1 0 1 0 0 0 0 1 1 0 0 1 1\n",
      " 1 0 1 1 1 1 1 0 0 1 1 0 1 1 0 0 1 0 1 1 1 1 0 1 1 1 1 1 0 1 0 0 0 0 0 0 0\n",
      " 0 0 0 0 0 0 0 1 1 1 1 1 1 0 1 0 1 1 0 1 1 0 1 0 0 1 1 1 1 1 1 1 1 1 1 1 1\n",
      " 1 0 1 1 0 1 0 1 1 1 1 1 1 1 1 1 1 1 1 1 1 0 1 1 1 0 1 0 1 1 1 1 0 0 0 1 1\n",
      " 1 1 0 1 0 1 0 1 1 1 0 1 1 1 1 1 1 1 0 0 0 1 1 1 1 1 1 1 1 1 1 1 0 0 1 0 0\n",
      " 0 1 0 0 1 1 1 1 1 0 1 1 1 1 1 0 1 1 1 0 1 1 0 0 1 1 1 1 1 1 0 1 1 1 1 1 1\n",
      " 1 0 1 1 1 1 1 0 1 1 0 1 1 1 1 1 1 1 1 1 1 1 1 0 1 0 0 1 0 1 1 1 1 1 0 1 1\n",
      " 0 1 0 1 1 0 1 0 1 1 1 1 1 1 1 1 0 0 1 1 1 1 1 1 0 1 1 1 1 1 1 1 1 1 1 0 1\n",
      " 1 1 1 1 1 1 0 1 0 1 1 0 1 1 1 1 1 0 0 1 0 1 0 1 1 1 1 1 0 1 1 0 1 0 1 0 0\n",
      " 1 1 1 0 1 1 1 1 1 1 1 1 1 1 1 0 1 0 0 1 1 1 1 1 1 1 1 1 1 1 1 1 1 1 1 1 1\n",
      " 1 1 1 1 1 1 1 0 0 0 0 0 0 1]\n"
     ]
    }
   ],
   "source": [
    "# print cancer labels (0: malignant, 1: benign)\n",
    "\n",
    "print(cancer.target)"
   ]
  },
  {
   "cell_type": "code",
   "execution_count": 7,
   "metadata": {},
   "outputs": [],
   "source": [
    "# import test_train_split function\n",
    "from sklearn.model_selection import train_test_split\n",
    "# split data set into training set and test set\n",
    "\n",
    "xtrain,xtest,ytrain,ytest = train_test_split(cancer.data, cancer.target, test_size = 0.2, random_state= 0)"
   ]
  },
  {
   "cell_type": "code",
   "execution_count": 9,
   "metadata": {},
   "outputs": [],
   "source": [
    "# import svm model\n",
    "\n",
    "from sklearn import svm\n",
    "\n",
    "# create a svm classifier\n",
    "clf = svm.SVC(kernel=\"linear\") #linear kernel\n",
    "\n",
    "# train model using training sets\n",
    "clf.fit(xtrain,ytrain)\n",
    "\n",
    "# predict the response for test dataset\n",
    "\n",
    "y_pred = clf.predict(xtest)"
   ]
  },
  {
   "cell_type": "code",
   "execution_count": 12,
   "metadata": {},
   "outputs": [
    {
     "name": "stdout",
     "output_type": "stream",
     "text": [
      "Accuracy:     95.6140350877193 %\n"
     ]
    }
   ],
   "source": [
    "# import scikit-learn metrics modeule for accuracy calculation\n",
    "from sklearn import metrics\n",
    "\n",
    "score = metrics.accuracy_score(ytest,y_pred)\n",
    "\n",
    "#model Accuracy: how often is the classifier correct?\n",
    "print(\"Accuracy:    \", metrics.accuracy_score(ytest,y_pred) * 100, \"%\")"
   ]
  },
  {
   "cell_type": "code",
   "execution_count": 14,
   "metadata": {},
   "outputs": [
    {
     "name": "stdout",
     "output_type": "stream",
     "text": [
      "Precision:    98.4375 %\n"
     ]
    }
   ],
   "source": [
    "# Model Precision: What percentage of positive tuples are labeled as such?\n",
    "print(\"Precision:   \", metrics.precision_score(ytest,y_pred)* 100, \"%\")"
   ]
  },
  {
   "cell_type": "code",
   "execution_count": 15,
   "metadata": {},
   "outputs": [
    {
     "name": "stdout",
     "output_type": "stream",
     "text": [
      "Recall:    94.02985074626866\n"
     ]
    }
   ],
   "source": [
    "# Model Recall: What percentage of positive tuples are labelled as such?\n",
    "print(\"Recall:   \",metrics.recall_score(ytest,y_pred) * 100)"
   ]
  },
  {
   "cell_type": "code",
   "execution_count": 17,
   "metadata": {},
   "outputs": [
    {
     "data": {
      "text/plain": [
       "array([[46,  1],\n",
       "       [ 4, 63]], dtype=int64)"
      ]
     },
     "execution_count": 17,
     "metadata": {},
     "output_type": "execute_result"
    }
   ],
   "source": [
    "# confusion metrix\n",
    "from sklearn import metrics\n",
    "cm = metrics.confusion_matrix(ytest,y_pred)\n",
    "cm"
   ]
  },
  {
   "cell_type": "code",
   "execution_count": 18,
   "metadata": {},
   "outputs": [
    {
     "data": {
      "text/plain": [
       "Text(0.5, 1.0, 'SVM model Accuracy (in %): 0.956140350877193')"
      ]
     },
     "execution_count": 18,
     "metadata": {},
     "output_type": "execute_result"
    },
    {
     "data": {
      "image/png": "[encoded data removed]",
      "text/plain": [
       "<Figure size 864x864 with 2 Axes>"
      ]
     },
     "metadata": {
      "needs_background": "light"
     },
     "output_type": "display_data"
    }
   ],
   "source": [
    "import seaborn as sns\n",
    "import matplotlib.pyplot as plt\n",
    "\n",
    "plt.figure(figsize=(12,12))\n",
    "sns.heatmap(cm,annot=True, fmt =\".3f\", linewidth =.5,square=True,cmap = \"Spectral\")\n",
    "\n",
    "plt.ylabel(\"Actual Label\")\n",
    "plt.xlabel(\"Predicted Label\")\n",
    "all_sample_title = \"SVM model Accuracy (in %): {0}\".format(score)\n",
    "plt.title(all_sample_title)"
   ]
  }
 ],
 "metadata": {
  "interpreter": {
   "hash": "18356a1fc69854ab157a114089e0ab91e679603d3ee092b990c09ee18435de1b"
  },
  "kernelspec": {
   "display_name": "Python 3.10.1 64-bit",
   "language": "python",
   "name": "python3"
  },
  "language_info": {
   "codemirror_mode": {
    "name": "ipython",
    "version": 3
   },
   "file_extension": ".py",
   "mimetype": "text/x-python",
   "name": "python",
   "nbconvert_exporter": "python",
   "pygments_lexer": "ipython3",
   "version": "3.10.1"
  },
  "orig_nbformat": 4
 },
 "nbformat": 4,
 "nbformat_minor": 2
}
