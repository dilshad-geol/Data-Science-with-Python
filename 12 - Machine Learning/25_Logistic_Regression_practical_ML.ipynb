{
 "cells": [
  {
   "cell_type": "markdown",
   "metadata": {},
   "source": [
    "# Python Ka Chilla with Baba Aammar\n",
    "## Instuructor: Dr. Aammar Tufail\n",
    "## Participant: Dilshad Raza \n",
    "# Hands on Practice_Logistic Regression"
   ]
  },
  {
   "cell_type": "code",
   "execution_count": 65,
   "metadata": {},
   "outputs": [],
   "source": [
    "#import libraries\n",
    "\n",
    "import pandas as pd\n",
    "import numpy as np\n",
    "import matplotlib.pyplot as plt"
   ]
  },
  {
   "cell_type": "code",
   "execution_count": 66,
   "metadata": {},
   "outputs": [],
   "source": [
    "# import online data\n",
    "\n",
    "from sklearn.datasets import load_digits\n",
    "\n",
    "digits = load_digits()"
   ]
  },
  {
   "cell_type": "code",
   "execution_count": 67,
   "metadata": {},
   "outputs": [],
   "source": [
    "# input variables or features (X)\n",
    "digits.data.shape\n",
    "X = digits.data\n",
    "# means 1797 pictures with size 64 = 8x8\n"
   ]
  },
  {
   "cell_type": "code",
   "execution_count": 68,
   "metadata": {},
   "outputs": [],
   "source": [
    "# output labels (y)\n",
    "digits.target.shape\n",
    "y = digits.target"
   ]
  },
  {
   "cell_type": "code",
   "execution_count": 69,
   "metadata": {},
   "outputs": [
    {
     "data": {
      "image/png": "[encoded data removed]",
      "text/plain": [
       "<Figure size 1440x288 with 20 Axes>"
      ]
     },
     "metadata": {
      "needs_background": "light"
     },
     "output_type": "display_data"
    }
   ],
   "source": [
    "# drawing plots and subplots\n",
    "plt.figure (figsize=(20,4))\n",
    "for index, (image, label) in enumerate(zip(digits.data[0:20],digits.target [0:20])):\n",
    "    plt.subplot (1,20, index + 1)\n",
    "    plt.imshow (np.reshape(image, (8,8)), cmap= plt.cm.gray)\n",
    "    plt.title ( label, fontsize = 20)\n"
   ]
  },
  {
   "cell_type": "code",
   "execution_count": 70,
   "metadata": {},
   "outputs": [],
   "source": [
    "# checking manual \n",
    "# help(plt)"
   ]
  },
  {
   "cell_type": "code",
   "execution_count": 81,
   "metadata": {},
   "outputs": [],
   "source": [
    "# split data\n",
    "\n",
    "from sklearn.model_selection import train_test_split\n",
    "\n",
    "X_train,X_test, y_train, y_test = train_test_split(X,y, test_size= 0.2, random_state= 4)\n",
    "\n",
    "\n"
   ]
  },
  {
   "cell_type": "code",
   "execution_count": 72,
   "metadata": {},
   "outputs": [
    {
     "name": "stdout",
     "output_type": "stream",
     "text": [
      "train input data:  (1437, 64)\n",
      "test input data:  (360, 64)\n",
      "train output data:  (1437,)\n",
      "test output data:  (360,)\n"
     ]
    }
   ],
   "source": [
    "print(\"train input data: \", X_train.shape )\n",
    "print(\"test input data: \", X_test.shape )\n",
    "print(\"train output data: \", y_train.shape )\n",
    "print(\"test output data: \", y_test.shape )"
   ]
  },
  {
   "cell_type": "code",
   "execution_count": 73,
   "metadata": {},
   "outputs": [
    {
     "name": "stderr",
     "output_type": "stream",
     "text": [
      "C:\\Users\\mrloo\\AppData\\Local\\Programs\\Python\\Python310\\lib\\site-packages\\sklearn\\linear_model\\_logistic.py:814: ConvergenceWarning: lbfgs failed to converge (status=1):\n",
      "STOP: TOTAL NO. of ITERATIONS REACHED LIMIT.\n",
      "\n",
      "Increase the number of iterations (max_iter) or scale the data as shown in:\n",
      "    https://scikit-learn.org/stable/modules/preprocessing.html\n",
      "Please also refer to the documentation for alternative solver options:\n",
      "    https://scikit-learn.org/stable/modules/linear_model.html#logistic-regression\n",
      "  n_iter_i = _check_optimize_result(\n"
     ]
    },
    {
     "data": {
      "text/plain": [
       "LogisticRegression()"
      ]
     },
     "execution_count": 73,
     "metadata": {},
     "output_type": "execute_result"
    }
   ],
   "source": [
    "# model train\n",
    "\n",
    "from sklearn.linear_model import LogisticRegression\n",
    "\n",
    "log_reg = LogisticRegression().fit(X_train, y_train)\n",
    "log_reg"
   ]
  },
  {
   "cell_type": "code",
   "execution_count": 74,
   "metadata": {},
   "outputs": [
    {
     "data": {
      "text/plain": [
       "array([9, 4, 4, 1, 2, 6, 4, 1, 5, 8, 5, 6, 8, 6, 6, 6, 4, 6, 1, 5, 3, 5,\n",
       "       2, 6, 7, 9, 4, 3, 7, 3, 9, 0, 4, 6, 8, 7, 1, 8, 7, 9, 8, 0, 4, 9,\n",
       "       3, 8, 7, 6, 7, 2, 8, 9, 3, 1, 2, 8, 6, 4, 8, 4, 2, 9, 5, 0, 9, 5,\n",
       "       8, 8, 4, 4, 6, 4, 9, 0, 0, 3, 2, 4, 4, 5, 2, 7, 1, 6, 3, 1, 3, 1,\n",
       "       2, 0, 7, 2, 5, 0, 5, 2, 9, 2, 9, 7, 0, 1, 0, 1, 6, 3, 8, 8, 2, 7,\n",
       "       8, 3, 9, 7, 1, 3, 4, 6, 0, 6, 9, 6, 5, 1, 2, 9, 2, 5, 0, 6, 8, 4,\n",
       "       2, 4, 7, 6, 4, 7, 7, 9, 6, 5, 9, 2, 1, 6, 6, 6, 9, 0, 3, 5, 1, 8,\n",
       "       7, 2, 8, 4, 1, 6, 8, 8, 8, 9, 2, 4, 0, 5, 5, 0, 3, 2, 5, 4, 8, 4,\n",
       "       1, 2, 0, 7, 9, 7, 4, 1, 8, 0, 2, 4, 5, 1, 9, 1, 8, 2, 5, 6, 6, 5,\n",
       "       2, 5, 7, 6, 5, 0, 5, 2, 8, 3, 4, 8, 1, 4, 2, 4, 1, 0, 7, 3, 4, 8,\n",
       "       8, 9, 1, 2, 4, 4, 4, 1, 2, 4, 9, 1, 9, 2, 1, 6, 6, 4, 4, 9, 9, 1,\n",
       "       0, 6, 5, 9, 4, 5, 7, 0, 9, 5, 2, 7, 9, 5, 9, 9, 5, 0, 7, 9, 7, 6,\n",
       "       2, 5, 5, 8, 7, 8, 7, 6, 2, 2, 8, 5, 7, 1, 1, 1, 3, 0, 2, 3, 1, 7,\n",
       "       6, 2, 6, 9, 5, 3, 7, 9, 3, 8, 5, 0, 5, 3, 3, 6, 4, 9, 8, 9, 2, 1,\n",
       "       9, 9, 0, 8, 7, 1, 0, 1, 1, 4, 4, 0, 6, 1, 7, 0, 6, 5, 0, 8, 1, 9,\n",
       "       8, 9, 3, 2, 4, 4, 9, 3, 0, 1, 3, 4, 0, 0, 5, 4, 1, 9, 7, 8, 1, 6,\n",
       "       8, 7, 3, 2, 7, 9, 3, 7])"
      ]
     },
     "execution_count": 74,
     "metadata": {},
     "output_type": "execute_result"
    }
   ],
   "source": [
    "# simple prediction\n",
    "# log_reg.predict (X_test[0: specified data])\n",
    "log_reg.predict (X_test[0:10])\n",
    "predictions = log_reg.predict(X_test)\n",
    "predictions"
   ]
  },
  {
   "cell_type": "code",
   "execution_count": 75,
   "metadata": {},
   "outputs": [
    {
     "name": "stdout",
     "output_type": "stream",
     "text": [
      "the accuracy score is:  0.975\n"
     ]
    }
   ],
   "source": [
    "# accuracy test\n",
    "score = log_reg.score(X_test, y_test)\n",
    "print('the accuracy score is: ', score)"
   ]
  },
  {
   "cell_type": "code",
   "execution_count": 76,
   "metadata": {},
   "outputs": [
    {
     "data": {
      "text/plain": [
       "array([[31,  0,  0,  0,  0,  0,  0,  0,  0,  0],\n",
       "       [ 0, 37,  0,  0,  0,  0,  0,  0,  1,  0],\n",
       "       [ 0,  1, 37,  0,  0,  0,  0,  0,  0,  0],\n",
       "       [ 0,  0,  0, 25,  0,  1,  0,  0,  1,  0],\n",
       "       [ 0,  0,  0,  0, 41,  0,  0,  0,  0,  0],\n",
       "       [ 0,  0,  0,  0,  0, 34,  0,  0,  0,  1],\n",
       "       [ 0,  1,  0,  0,  0,  0, 37,  0,  0,  0],\n",
       "       [ 0,  0,  0,  0,  0,  0,  0, 34,  0,  0],\n",
       "       [ 0,  0,  0,  0,  1,  0,  0,  0, 34,  0],\n",
       "       [ 0,  0,  0,  1,  0,  0,  0,  0,  1, 41]], dtype=int64)"
      ]
     },
     "execution_count": 76,
     "metadata": {},
     "output_type": "execute_result"
    }
   ],
   "source": [
    "# confusion matrix\n",
    "from sklearn import metrics\n",
    "\n",
    "cm = metrics.confusion_matrix (y_test, predictions)\n",
    "cm"
   ]
  },
  {
   "cell_type": "code",
   "execution_count": 77,
   "metadata": {},
   "outputs": [
    {
     "data": {
      "image/png": "[encoded data removed]",
      "text/plain": [
       "<Figure size 648x648 with 2 Axes>"
      ]
     },
     "metadata": {
      "needs_background": "light"
     },
     "output_type": "display_data"
    }
   ],
   "source": [
    "# plotting the result\n",
    "import seaborn as sns\n",
    "plt.figure(figsize= (9,9))\n",
    "sns.heatmap (cm, annot = True, fmt = '.3f', linewidths= .5, square = True, cmap = 'Spectral');\n",
    "plt.ylabel(\"actual output\");\n",
    "plt.xlabel ('predicted output');\n",
    "all_sample_title = 'Accuracy Score:{0}'.format(score)\n",
    "plt.title (all_sample_title, size =15);"
   ]
  },
  {
   "cell_type": "code",
   "execution_count": 78,
   "metadata": {},
   "outputs": [
    {
     "name": "stdout",
     "output_type": "stream",
     "text": [
      "[[31  0  0  0  0  0  0  0  0  0]\n",
      " [ 0 37  0  0  0  0  0  0  1  0]\n",
      " [ 0  1 37  0  0  0  0  0  0  0]\n",
      " [ 0  0  0 25  0  1  0  0  1  0]\n",
      " [ 0  0  0  0 41  0  0  0  0  0]\n",
      " [ 0  0  0  0  0 34  0  0  0  1]\n",
      " [ 0  1  0  0  0  0 37  0  0  0]\n",
      " [ 0  0  0  0  0  0  0 34  0  0]\n",
      " [ 0  0  0  0  1  0  0  0 34  0]\n",
      " [ 0  0  0  1  0  0  0  0  1 41]]\n"
     ]
    }
   ],
   "source": [
    "print(cm)"
   ]
  },
  {
   "cell_type": "code",
   "execution_count": 79,
   "metadata": {},
   "outputs": [],
   "source": [
    "# getting miss classified labels\n",
    "\n",
    "import numpy as np\n",
    "import matplotlib.pyplot as plt\n",
    "index =0\n",
    "misclassifiedIndexes = []\n",
    "for label, predict in zip(y_test, predictions):\n",
    "    if label != predict:\n",
    "        misclassifiedIndexes.append(index)\n",
    "        index +=1\n",
    "\n"
   ]
  },
  {
   "cell_type": "code",
   "execution_count": 82,
   "metadata": {},
   "outputs": [
    {
     "data": {
      "image/png": "[encoded data removed]",
      "text/plain": [
       "<Figure size 1440x288 with 5 Axes>"
      ]
     },
     "metadata": {
      "needs_background": "light"
     },
     "output_type": "display_data"
    }
   ],
   "source": [
    "# plotting missclassified labels with known labels\n",
    "\n",
    "plt.figure(figsize= (20,4))\n",
    "\n",
    "for plotIndex, badIndex in enumerate (misclassifiedIndexes[0:5]):\n",
    "    plt.subplot (1,5, plotIndex + 1)\n",
    "    plt.imshow(np.reshape(X_test[badIndex], (8,8)), cmap = plt.cm.gray)\n",
    "    plt.title ('Predicted: {}, Actual: {}'.format(predictions[badIndex], y_test[badIndex]), fontsize = 15)"
   ]
  }
 ],
 "metadata": {
  "interpreter": {
   "hash": "18356a1fc69854ab157a114089e0ab91e679603d3ee092b990c09ee18435de1b"
  },
  "kernelspec": {
   "display_name": "Python 3.10.1 64-bit",
   "language": "python",
   "name": "python3"
  },
  "language_info": {
   "codemirror_mode": {
    "name": "ipython",
    "version": 3
   },
   "file_extension": ".py",
   "mimetype": "text/x-python",
   "name": "python",
   "nbconvert_exporter": "python",
   "pygments_lexer": "ipython3",
   "version": "3.10.1"
  },
  "orig_nbformat": 4
 },
 "nbformat": 4,
 "nbformat_minor": 2
}
