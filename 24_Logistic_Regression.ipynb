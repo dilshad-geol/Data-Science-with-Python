{
 "cells": [
  {
   "cell_type": "markdown",
   "metadata": {},
   "source": [
    "# ***Machine Learning***\n",
    "## **Logistic Regression**"
   ]
  },
  {
   "cell_type": "markdown",
   "metadata": {},
   "source": [
    "## Machine Learning **Regression**\n",
    "- Types of Regression\n",
    "  - **Linear Regression**\n",
    "    - R^2 Calculation (Pearson's and Spearman's)\n",
    "    - Correlation of two continuous variables\n",
    "    - -1-0-1 (-1 Negative (Zero) positive)\n",
    "    - Use the line to predict the variable\n",
    "  - **Multiple Linear Regression**\n",
    "    - 2x varibales or more\n",
    "    - Multiple variables\n",
    "    - domain specific\n",
    "  - **Logistic Regression**\n",
    "    - Classification method(on numerical based data, its classified into different classes(class1, class 2))\n",
    "    - Its based on probability\n",
    "    - No regression line into the data\n",
    "    - **S-shape** logistic function\n",
    "    - Logistic regression tells us probability\n",
    "    - Works with continuous and discrete data(like linear regression)\n",
    "      - This make it popular machine learning method\n",
    "\n",
    "### Logistic Regression vs Linear Regression\n",
    "|Linear Regression|Logistic Regression|\n",
    "|-----|---|\n",
    "|how line fits (Least square method minimizing the Mean R.E)|How line fits(different concepts)|\n",
    "|R^2 tells us the accuracy| It used probability (max likelihood)|\n",
    "||It give s-shaped logistic function|\n",
    "||**Max likelihood**|\n",
    "\n",
    "- Probability vs Max Likelihood\n",
    "\n",
    "|Probability|Max. Likelihood|\n",
    "|----|---|\n",
    "|Chances of occurence|maximum likelihood estimation is a method of estimating the parameters of an assumed probability distribution, given some observed data.|\n",
    "|Example, a ludo dice, how many chances that we are going to get a ^ etc|nothing can be more than max likelyhood|\n",
    "\n",
    "- **Image Classification**\n",
    "  - Autonomous driving\n",
    "    - Sign\n",
    "    - Vehicle\n",
    "    - pedestions\n",
    "  - X-ray of bones\n",
    "  - black and white pictures\n",
    "  - cat vs car\n",
    "  - Moving and still\n",
    "\n",
    "\n"
   ]
  }
 ],
 "metadata": {
  "interpreter": {
   "hash": "18356a1fc69854ab157a114089e0ab91e679603d3ee092b990c09ee18435de1b"
  },
  "kernelspec": {
   "display_name": "Python 3.10.1 64-bit",
   "language": "python",
   "name": "python3"
  },
  "language_info": {
   "name": "python",
   "version": "3.10.1"
  },
  "orig_nbformat": 4
 },
 "nbformat": 4,
 "nbformat_minor": 2
}
