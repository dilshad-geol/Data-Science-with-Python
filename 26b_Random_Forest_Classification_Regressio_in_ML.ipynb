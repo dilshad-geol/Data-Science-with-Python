{
 "cells": [
  {
   "cell_type": "markdown",
   "metadata": {},
   "source": [
    "# Python Ka chilla with BABA AAMMAR \n",
    "\n",
    "## Instructor: Dr. Aammar Tufail\n",
    "## PArticipant: Dilshad Raza\n",
    "\n",
    "# **Classification and Regressin in Python**\n",
    "- There are different types of Algorithm\n",
    "- \"Decision Tree ALgorithm\"\n",
    "  - Splits due to entropy gain(info)\n",
    "  - Class labels are assigned on a Leaf node\n",
    "  - Slight change in the data set changes the whole tree \n",
    "  - It is sensitive to the Training Data\n",
    "    - therefore our model fails to generalize the data\n",
    "    - sensitivity, any input value---> prediction(effected)\n",
    "\n",
    "- How to solve this:\n",
    "  - Making Multiple random decision trees=> Forest\n",
    "\n",
    "# **Random Forest Classification and Regressin in Python**\n",
    "- Random Forest Model:\n",
    "  - Less Sensitive to the Training Data\n",
    "\n",
    "1. Creating multiple datasets from main data\n",
    "   - Same number of rows\n",
    "   - Random sampling and replacing (Bootstraping)\n",
    "\n",
    "- Train Data sets on each data set independently\n",
    "  - use few features to train the data\n",
    "\n",
    "**BOOTSTRAPING**\n",
    "\n",
    "|x1|x2|y|\n",
    "|----|---|---|\n",
    "|2|4|8|\n",
    "|3|6|18|\n",
    "|4|2|8|\n",
    "|5|2|10|\n",
    "\n",
    "\n",
    "\n",
    "- Bootstraping is basically randomization of the data sets into their columns/variables during training as shown below:\n",
    "\n",
    "\n",
    "|x1|x1|x1|\n",
    "|----|---|---|\n",
    "|2|3|2|\n",
    "|3|4|2|\n",
    "|3|5|3|\n",
    "|4|5|3|\n",
    "\n",
    "- same for x2:\n",
    "\n",
    "\n",
    "|x2|x2|x2|\n",
    "|----|---|----|\n",
    "|4|6|4|\n",
    "|6|4|2|\n",
    "|2|2|6|\n",
    "|2|6|6|\n",
    "\n",
    "2. Use few Features to train the data\n",
    "3. Prediction on the basis of Aggregation(Democracy) Jamhooriyat\n",
    "\n",
    "- if we have categorical Classification data\n",
    "  - Then it is random forest classifier\n",
    "- if we have numerical data\n",
    "  - Then it is random forest regresser\n",
    "\n",
    "\n",
    "**Random Forest = (Vootstraping + Aggregation)--> BAGGING**\n",
    "\n",
    "- VI Point: Why it is called Random?----> (Bootstraping + Random Feature Selection)\n",
    "- Randomizes the relationship b/w trees\n",
    "  - if we dont use random features, all trees will act very similarly (Variance increases)\n",
    "\n",
    "  - Some trees will give us bad results while some will give us good results so they will cancel out each other giving us one jsut as 3/3 = 1\n",
    "- Ideal size of feature subset?\n",
    "  - squareroot of total number of features or\n",
    "\n",
    "- **RANDOM FOREST FOR REGRESSION**\n",
    "  - aggregation step:\n",
    "    - take the mean at this stage\n",
    "\n",
    "\n",
    "- **Advantages:**\n",
    "  - robust model\n",
    "  - highly accurate vs decision tree\n",
    "  - less overfitting or not a problem\n",
    "    - it takes average or mode\n",
    "  - can be used for both classification and regression analysis (Aggregation step (take mean fro regression and mode for classification))\n",
    "  - also can get relative feature information\n",
    "- **COns:**\n",
    "  - so many decision trees\n",
    "  - so many sub samples\n",
    "  - prediction will be slow\n",
    "  - high computation\n",
    "  - high cost\n",
    "  - hard to interpret\n",
    "\n",
    "RF vs DTs\n",
    "- RF is more accurate than DTs\n",
    "\n",
    "\n",
    "# Hands on Training with Random Forest Model:"
   ]
  },
  {
   "cell_type": "code",
   "execution_count": 1,
   "metadata": {},
   "outputs": [
    {
     "data": {
      "text/html": [
       "<div>\n",
       "<style scoped>\n",
       "    .dataframe tbody tr th:only-of-type {\n",
       "        vertical-align: middle;\n",
       "    }\n",
       "\n",
       "    .dataframe tbody tr th {\n",
       "        vertical-align: top;\n",
       "    }\n",
       "\n",
       "    .dataframe thead th {\n",
       "        text-align: right;\n",
       "    }\n",
       "</style>\n",
       "<table border=\"1\" class=\"dataframe\">\n",
       "  <thead>\n",
       "    <tr style=\"text-align: right;\">\n",
       "      <th></th>\n",
       "      <th>sepal_length</th>\n",
       "      <th>sepal_width</th>\n",
       "      <th>petal_length</th>\n",
       "      <th>petal_width</th>\n",
       "      <th>species</th>\n",
       "    </tr>\n",
       "  </thead>\n",
       "  <tbody>\n",
       "    <tr>\n",
       "      <th>0</th>\n",
       "      <td>5.1</td>\n",
       "      <td>3.5</td>\n",
       "      <td>1.4</td>\n",
       "      <td>0.2</td>\n",
       "      <td>setosa</td>\n",
       "    </tr>\n",
       "    <tr>\n",
       "      <th>1</th>\n",
       "      <td>4.9</td>\n",
       "      <td>3.0</td>\n",
       "      <td>1.4</td>\n",
       "      <td>0.2</td>\n",
       "      <td>setosa</td>\n",
       "    </tr>\n",
       "    <tr>\n",
       "      <th>2</th>\n",
       "      <td>4.7</td>\n",
       "      <td>3.2</td>\n",
       "      <td>1.3</td>\n",
       "      <td>0.2</td>\n",
       "      <td>setosa</td>\n",
       "    </tr>\n",
       "    <tr>\n",
       "      <th>3</th>\n",
       "      <td>4.6</td>\n",
       "      <td>3.1</td>\n",
       "      <td>1.5</td>\n",
       "      <td>0.2</td>\n",
       "      <td>setosa</td>\n",
       "    </tr>\n",
       "    <tr>\n",
       "      <th>4</th>\n",
       "      <td>5.0</td>\n",
       "      <td>3.6</td>\n",
       "      <td>1.4</td>\n",
       "      <td>0.2</td>\n",
       "      <td>setosa</td>\n",
       "    </tr>\n",
       "  </tbody>\n",
       "</table>\n",
       "</div>"
      ],
      "text/plain": [
       "   sepal_length  sepal_width  petal_length  petal_width species\n",
       "0           5.1          3.5           1.4          0.2  setosa\n",
       "1           4.9          3.0           1.4          0.2  setosa\n",
       "2           4.7          3.2           1.3          0.2  setosa\n",
       "3           4.6          3.1           1.5          0.2  setosa\n",
       "4           5.0          3.6           1.4          0.2  setosa"
      ]
     },
     "execution_count": 1,
     "metadata": {},
     "output_type": "execute_result"
    }
   ],
   "source": [
    "# import sample data and libraries\n",
    "\n",
    "import pandas as pd\n",
    "import numpy as np\n",
    "import seaborn as sns\n",
    "import matplotlib.pyplot as plt\n",
    "\n",
    "df = sns.load_dataset(\"iris\")\n",
    "df.head()"
   ]
  },
  {
   "cell_type": "code",
   "execution_count": 2,
   "metadata": {},
   "outputs": [],
   "source": [
    "X = df.iloc[ : ,:-1]\n",
    "y= df.iloc[ : ,-1:]"
   ]
  },
  {
   "cell_type": "code",
   "execution_count": 7,
   "metadata": {},
   "outputs": [
    {
     "name": "stderr",
     "output_type": "stream",
     "text": [
      "C:\\Users\\mrloo\\AppData\\Local\\Temp/ipykernel_1576/951398303.py:3: DataConversionWarning: A column-vector y was passed when a 1d array was expected. Please change the shape of y to (n_samples,), for example using ravel().\n",
      "  model.fit(X,y)\n",
      "C:\\Users\\mrloo\\AppData\\Local\\Programs\\Python\\Python310\\lib\\site-packages\\sklearn\\base.py:450: UserWarning: X does not have valid feature names, but RandomForestClassifier was fitted with feature names\n",
      "  warnings.warn(\n"
     ]
    },
    {
     "data": {
      "text/plain": [
       "array(['setosa'], dtype=object)"
      ]
     },
     "execution_count": 7,
     "metadata": {},
     "output_type": "execute_result"
    }
   ],
   "source": [
    "from sklearn.ensemble import RandomForestClassifier\n",
    "model = RandomForestClassifier(n_estimators=100)\n",
    "model.fit(X,y)\n",
    "model.predict([[10,4,2,3]])"
   ]
  },
  {
   "cell_type": "code",
   "execution_count": 8,
   "metadata": {},
   "outputs": [
    {
     "data": {
      "text/plain": [
       "array(['virginica', 'setosa', 'virginica', 'versicolor', 'setosa',\n",
       "       'setosa', 'setosa', 'virginica', 'virginica', 'virginica',\n",
       "       'setosa', 'versicolor', 'versicolor', 'versicolor', 'versicolor',\n",
       "       'setosa', 'virginica', 'setosa', 'setosa', 'versicolor',\n",
       "       'versicolor', 'versicolor', 'versicolor', 'virginica',\n",
       "       'versicolor', 'virginica', 'versicolor', 'versicolor',\n",
       "       'versicolor', 'versicolor'], dtype=object)"
      ]
     },
     "execution_count": 8,
     "metadata": {},
     "output_type": "execute_result"
    }
   ],
   "source": [
    "from sklearn.model_selection import train_test_split\n",
    "\n",
    "X_train,X_test, y_train, y_test = train_test_split(X,y, test_size= 0.2)\n",
    "\n",
    "predictions = model.predict(X_test)\n",
    "predictions"
   ]
  },
  {
   "cell_type": "code",
   "execution_count": 9,
   "metadata": {},
   "outputs": [
    {
     "name": "stdout",
     "output_type": "stream",
     "text": [
      "the accuracy score is: 1.0\n"
     ]
    }
   ],
   "source": [
    "# accuracy test\n",
    "\n",
    "score = model.score(X_test, y_test)\n",
    "print(\"the accuracy score is:\", score)"
   ]
  },
  {
   "cell_type": "code",
   "execution_count": 10,
   "metadata": {},
   "outputs": [
    {
     "name": "stdout",
     "output_type": "stream",
     "text": [
      "Accuracy: 1.0\n"
     ]
    }
   ],
   "source": [
    "from sklearn import metrics\n",
    "print(\"Accuracy:\", metrics.accuracy_score(y_test,predictions))"
   ]
  },
  {
   "cell_type": "code",
   "execution_count": 11,
   "metadata": {},
   "outputs": [
    {
     "data": {
      "text/plain": [
       "array([[ 8,  0,  0],\n",
       "       [ 0, 14,  0],\n",
       "       [ 0,  0,  8]], dtype=int64)"
      ]
     },
     "execution_count": 11,
     "metadata": {},
     "output_type": "execute_result"
    }
   ],
   "source": [
    "from sklearn import metrics\n",
    "cm = metrics.confusion_matrix(y_test, predictions)\n",
    "cm"
   ]
  },
  {
   "cell_type": "code",
   "execution_count": 16,
   "metadata": {},
   "outputs": [
    {
     "data": {
      "text/plain": [
       "Text(0.5, 1.0, 'Accuracy Score:1.0')"
      ]
     },
     "execution_count": 16,
     "metadata": {},
     "output_type": "execute_result"
    },
    {
     "data": {
      "image/png": "[encoded data removed]",
      "text/plain": [
       "<Figure size 648x648 with 2 Axes>"
      ]
     },
     "metadata": {
      "needs_background": "light"
     },
     "output_type": "display_data"
    }
   ],
   "source": [
    "plt.figure(figsize= (9,9))\n",
    "\n",
    "sns.heatmap(cm, annot=True, fmt ='.3f', linewidths = .5, square = True, cmap ='Spectral');\n",
    "plt.ylabel(\"Actual Output\");\n",
    "plt.xlabel('predicted Output');\n",
    "all_sample_title = \"Accuracy Score:{0}\".format(score)\n",
    "plt.title(all_sample_title, size =15)"
   ]
  }
 ],
 "metadata": {
  "interpreter": {
   "hash": "18356a1fc69854ab157a114089e0ab91e679603d3ee092b990c09ee18435de1b"
  },
  "kernelspec": {
   "display_name": "Python 3.10.1 64-bit",
   "language": "python",
   "name": "python3"
  },
  "language_info": {
   "codemirror_mode": {
    "name": "ipython",
    "version": 3
   },
   "file_extension": ".py",
   "mimetype": "text/x-python",
   "name": "python",
   "nbconvert_exporter": "python",
   "pygments_lexer": "ipython3",
   "version": "3.10.1"
  },
  "orig_nbformat": 4
 },
 "nbformat": 4,
 "nbformat_minor": 2
}
