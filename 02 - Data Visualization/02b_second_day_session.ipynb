{
 "cells": [
  {
   "cell_type": "markdown",
   "id": "b19499cb",
   "metadata": {},
   "source": [
    "# Body Mass Index Calculator"
   ]
  },
  {
   "cell_type": "code",
   "execution_count": null,
   "id": "563ba4eb",
   "metadata": {},
   "outputs": [],
   "source": [
    "# input Weight\n",
    "# input Height\n",
    "# Body Mass Index calculation\n",
    "# Print result\n"
   ]
  },
  {
   "cell_type": "code",
   "execution_count": 3,
   "id": "d6239afc",
   "metadata": {},
   "outputs": [
    {
     "name": "stdout",
     "output_type": "stream",
     "text": [
      "What is your name? Dilshad\n",
      "How old are you? 21\n",
      "What is your current height(m)? 1.65\n",
      "What is your weight (in kg)? 63\n",
      "Dilshad Body Mass index is 23.140495867768596\n"
     ]
    }
   ],
   "source": [
    "name = input(\"What is your name? \")\n",
    "age = input(\"How old are you? \")\n",
    "height = input(\"What is your current height(m)? \")\n",
    "weight = input(\"What is your weight (in kg)? \")\n",
    "\n",
    "age=float(age)\n",
    "height = float(height)\n",
    "weight = float(weight)\n",
    "\n",
    "bmi = weight/height**2\n",
    "print(name, \"Body Mass index is\", bmi)"
   ]
  },
  {
   "cell_type": "code",
   "execution_count": null,
   "id": "74aea705",
   "metadata": {},
   "outputs": [],
   "source": []
  },
  {
   "cell_type": "code",
   "execution_count": null,
   "id": "9a306b5c",
   "metadata": {},
   "outputs": [],
   "source": []
  }
 ],
 "metadata": {
  "kernelspec": {
   "display_name": "Python 3 (ipykernel)",
   "language": "python",
   "name": "python3"
  },
  "language_info": {
   "codemirror_mode": {
    "name": "ipython",
    "version": 3
   },
   "file_extension": ".py",
   "mimetype": "text/x-python",
   "name": "python",
   "nbconvert_exporter": "python",
   "pygments_lexer": "ipython3",
   "version": "3.9.7"
  }
 },
 "nbformat": 4,
 "nbformat_minor": 5
}
