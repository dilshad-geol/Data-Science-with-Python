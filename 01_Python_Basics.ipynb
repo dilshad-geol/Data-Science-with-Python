{
 "cells": [
  {
   "cell_type": "markdown",
   "id": "ecde8f97",
   "metadata": {},
   "source": [
    "# Python_ka_Chilla\n",
    "## Python_Basics\n",
    "### 01_first_program"
   ]
  },
  {
   "cell_type": "code",
   "execution_count": 1,
   "id": "c61aff0c",
   "metadata": {},
   "outputs": [
    {
     "name": "stdout",
     "output_type": "stream",
     "text": [
      "It`s Dilshad raza, writing his first line of code in vscode\n",
      "I am the one who can complete this course.\n",
      "I am the best...!\n"
     ]
    }
   ],
   "source": [
    "print(\"It`s Dilshad raza, writing his first line of code in vscode\")\n",
    "print(\"I am the one who can complete this course.\")\n",
    "print(\"I am the best...!\")"
   ]
  },
  {
   "cell_type": "markdown",
   "id": "1de88063",
   "metadata": {},
   "source": [
    "### 02_Operators"
   ]
  },
  {
   "cell_type": "code",
   "execution_count": 2,
   "id": "037ed1f0",
   "metadata": {},
   "outputs": [
    {
     "name": "stdout",
     "output_type": "stream",
     "text": [
      "35\n",
      "12\n",
      "3.0\n",
      "3\n",
      "1\n",
      "5 3.0\n",
      "8\n",
      "Operators\n"
     ]
    }
   ],
   "source": [
    "print(2+33) #addition operator\n",
    "print(3*4) #multiplication operator\n",
    "print(9/3)  #divide operators\n",
    "print(9//3) #divide with no floating number operator\n",
    "print(9%2)  #remainder operator\n",
    "print((2+3),3+4*6**2/5//2%2)    #PEMDAS operators working\n",
    "print(2**3)\n",
    "\n",
    "print(\"Operators\")"
   ]
  },
  {
   "cell_type": "markdown",
   "id": "42586e0d",
   "metadata": {},
   "source": [
    "### 03_Strings\n",
    "Strings are all the things written within the commas either single comma, double or may be tripple commas."
   ]
  },
  {
   "cell_type": "code",
   "execution_count": 3,
   "id": "3ffc03cd",
   "metadata": {},
   "outputs": [
    {
     "name": "stdout",
     "output_type": "stream",
     "text": [
      "single \"comma\" string\n",
      "double 'comma' string\n",
      "tripple\"commas\" string\n",
      " Dilshad`s strings\n"
     ]
    }
   ],
   "source": [
    "print('single \"comma\" string')  #single comma used when within string something is to be settle within double comma\n",
    "print (\"double 'comma' string\") #double comma with single comma text inside\n",
    "\n",
    "print    ('''tripple\"commas\" string''')    #tripple comma\n",
    "\n",
    "print  ( \" Dilshad`s strings\")"
   ]
  },
  {
   "cell_type": "markdown",
   "id": "c11bf5f6",
   "metadata": {},
   "source": [
    "### 04_Comments\n",
    "*Comments:*\n",
    "used to remove the code-lines without actually removing them and also to give details about code lines\n",
    "Command: Ctrl + /\n",
    "or simply putting hash before the line\n"
   ]
  },
  {
   "cell_type": "code",
   "execution_count": 4,
   "id": "f755c23d",
   "metadata": {},
   "outputs": [
    {
     "name": "stdout",
     "output_type": "stream",
     "text": [
      "comments\n",
      "2+3\n",
      "commenting out is quite fun\n"
     ]
    }
   ],
   "source": [
    "print(\"comments\") #print a string\n",
    "print(\"2+3\") #print additoin operator function with numbers\n",
    "#print(\"comments out\")\n",
    "print(\"commenting out is quite fun\")"
   ]
  },
  {
   "cell_type": "markdown",
   "id": "41699fce",
   "metadata": {},
   "source": [
    "### 05_Variables\n",
    "objects containing specific values\n",
    "Both numbers and strings are used as variables\n",
    "integers can be variables\n",
    "strings can be variables\n",
    "Rules to assign variables or objecting variables\n",
    "1- Letters, numbers, and underscores no space \n",
    "2- Cant start with numbers\n",
    "3- no spaces in variable names\n",
    "4- no reserved keywords of pythons can be used\n",
    "5- short & descriptive\n",
    "6- case-sensitive"
   ]
  },
  {
   "cell_type": "code",
   "execution_count": 5,
   "id": "95e41a57",
   "metadata": {},
   "outputs": [
    {
     "name": "stdout",
     "output_type": "stream",
     "text": [
      "4\n",
      "variables are objects containg some other value\n",
      "27\n",
      "33\n",
      "<class 'int'>\n",
      "<class 'str'>\n"
     ]
    }
   ],
   "source": [
    "x=4 #integer variable\n",
    "y = \"variables are objects containg some other value\" #string variable\n",
    "print (x) #show output x variable\n",
    "print (y) #show output of y variables\n",
    "x = 23 +4 #integer variable with operator addition\n",
    "print(x) #show output of x\n",
    "x = x+6 #integer variable with operator addition\n",
    "print (x) #show output of x\n",
    "#del x #delete value of x\n",
    "#types of variables\n",
    "print(type(x)) #show type of x variable\n",
    "print(type(y)) #show variable of y variable"
   ]
  },
  {
   "cell_type": "markdown",
   "id": "6db3757e",
   "metadata": {},
   "source": [
    "### 06_input_variables\n"
   ]
  },
  {
   "cell_type": "code",
   "execution_count": 6,
   "id": "e60682bd",
   "metadata": {},
   "outputs": [
    {
     "name": "stdout",
     "output_type": "stream",
     "text": [
      "What is your name? Dilshad\n",
      "Hello! Dilshad\n",
      "How old are you? 21\n",
      "You are still young! Dilshad\n"
     ]
    }
   ],
   "source": [
    "name =input(\"What is your name? \")\n",
    "# greetings  = \"Nice to see you here!\"\n",
    "# age = input(\"How old are you? \")\n",
    "print(\"Hello!\", name)\n",
    "greetings  = \"Nice to see you here!\"\n",
    "age = input(\"How old are you? \")\n",
    "print(\"You are still young!\",name)"
   ]
  },
  {
   "cell_type": "markdown",
   "id": "8f17b679",
   "metadata": {},
   "source": [
    "### 07_Conditional_Logics\n",
    "Logical operators are either yes or No, 1 or 0, true or false.\n",
    "equal to operator                  ==\n",
    "not equal to                       !=\n",
    "less than                         <\n",
    "greater than                      >\n",
    "less than and equal to            <=\n",
    "greater than and equal to         >=\n"
   ]
  },
  {
   "cell_type": "code",
   "execution_count": 7,
   "id": "4a64e0d4",
   "metadata": {},
   "outputs": [
    {
     "name": "stdout",
     "output_type": "stream",
     "text": [
      "True\n",
      "True\n",
      "True\n",
      "False\n",
      "True\n",
      "True\n",
      "What is your name?Dilshad\n",
      "Hello! Dilshad\n",
      "How old are you? 4\n",
      "True\n"
     ]
    }
   ],
   "source": [
    "print(5==5)\n",
    "print(6!=4)\n",
    "print(56<75)\n",
    "print(66>66)\n",
    "print(78<=90)\n",
    "print(89>=67)\n",
    "\n",
    "name= input(\"What is your name?\" )\n",
    "print(\"Hello!\", name)\n",
    "age = input(\"How old are you? \")\n",
    "age = int (age)\n",
    "min_age_school=4\n",
    "print(age>=min_age_school)"
   ]
  },
  {
   "cell_type": "markdown",
   "id": "4c0dd102",
   "metadata": {},
   "source": [
    "### 08_type_conversions"
   ]
  },
  {
   "cell_type": "code",
   "execution_count": 8,
   "id": "e1d0d002",
   "metadata": {},
   "outputs": [
    {
     "name": "stdout",
     "output_type": "stream",
     "text": [
      "22.4\n",
      "<class 'float'>\n",
      "<class 'float'>\n",
      "<class 'float'>\n",
      "<class 'str'>\n",
      "<class 'str'>\n",
      "9.0\n",
      "<class 'float'>\n",
      "<class 'float'>\n"
     ]
    }
   ],
   "source": [
    "x = 4                #integer\n",
    "y = 5.6              #float\n",
    "z = \"Hi\"             #string\n",
    "#implicit type conversion\n",
    "print (x*y)\n",
    "print (type(x*y))\n",
    "print (type (x+y))\n",
    "print (type(x/y))\n",
    "print (type(z))\n",
    "#Explicit type conversion\n",
    "#one type of variable value can be converted to another.\n",
    "x = float (x) #integer to floating number\n",
    "y = int(y)      #floating number to integer\n",
    "z = str (z)\n",
    "print (type(str(z)))\n",
    "print (x+y)\n",
    "print (type(x*y))\n",
    "print (type(x))"
   ]
  },
  {
   "cell_type": "markdown",
   "id": "c22b7aa3",
   "metadata": {},
   "source": [
    "### 09_if_else_elif_statements\n",
    "#### If_else_Statement\n"
   ]
  },
  {
   "cell_type": "code",
   "execution_count": 9,
   "id": "94b87845",
   "metadata": {},
   "outputs": [
    {
     "name": "stdout",
     "output_type": "stream",
     "text": [
      "What is your name? Dilshad\n",
      "hello! Dilshad\n",
      "What is your age? 5\n",
      "Well, Its my pleasure to have you here in School Dilshad\n"
     ]
    }
   ],
   "source": [
    "name = input(\"What is your name? \")\n",
    "print(\"hello!\", name)\n",
    "age = input (\"What is your age? \")\n",
    "age = int(age)\n",
    "min_age_req = 5\n",
    "\n",
    "if age==min_age_req:\n",
    "    print(\"Well, Its my pleasure to have you here in School\", name)\n",
    "else:\n",
    "    print(\"Sorry, you are too young to join us...!\") "
   ]
  },
  {
   "cell_type": "markdown",
   "id": "4a31f34e",
   "metadata": {},
   "source": [
    "#### if_elif_statement"
   ]
  },
  {
   "cell_type": "code",
   "execution_count": 10,
   "id": "800afd41",
   "metadata": {},
   "outputs": [
    {
     "name": "stdout",
     "output_type": "stream",
     "text": [
      "Amount Paid = 20\n",
      "5 rs your cashback\n"
     ]
    }
   ],
   "source": [
    "cost_of_juice= 15\n",
    "amount_paid = input(\"Amount Paid = \")\n",
    "amount_paid = int (amount_paid)\n",
    "if amount_paid == cost_of_juice:\n",
    "    print(\"Thankyou for trying us...!\")\n",
    "elif amount_paid > cost_of_juice:\n",
    "    x = amount_paid - cost_of_juice\n",
    "    print(x,\"rs your cashback\")\n",
    "elif amount_paid < cost_of_juice:\n",
    "    y = cost_of_juice - amount_paid\n",
    "    print(y,\"rs more required to get you a glass of juice...!\")\n",
    "else:\n",
    "    print (\"sorry...!\")\n",
    "    "
   ]
  },
  {
   "cell_type": "markdown",
   "id": "a0414bf7",
   "metadata": {},
   "source": [
    "### 10_functions"
   ]
  },
  {
   "cell_type": "code",
   "execution_count": 11,
   "id": "908b58f2",
   "metadata": {},
   "outputs": [
    {
     "name": "stdout",
     "output_type": "stream",
     "text": [
      "dilshad is learning well\n",
      "wow\n",
      "ali\n",
      "wow\n"
     ]
    }
   ],
   "source": [
    "def print_ali():\n",
    "    print(\"dilshad is learning well\")\n",
    "    print(\"wow\")\n",
    "    print(\"ali\")\n",
    "    \n",
    "print_ali()\n",
    "#0 2 method\n",
    "def print_h():\n",
    "    text = \"wow\"\n",
    "    print (text)\n",
    "print_h()"
   ]
  },
  {
   "cell_type": "markdown",
   "id": "dfa92376",
   "metadata": {},
   "source": [
    "### 11_loops\n",
    "##### While Loops"
   ]
  },
  {
   "cell_type": "code",
   "execution_count": 12,
   "id": "dcc579fd",
   "metadata": {},
   "outputs": [
    {
     "name": "stdout",
     "output_type": "stream",
     "text": [
      "1\n",
      "2\n",
      "3\n",
      "4\n",
      "5\n",
      "6\n"
     ]
    }
   ],
   "source": [
    "z = 1\n",
    "while z < 7:\n",
    "    print(z)\n",
    "    z=z+1  "
   ]
  },
  {
   "cell_type": "markdown",
   "id": "717d64f3",
   "metadata": {},
   "source": [
    "##### For_Loops"
   ]
  },
  {
   "cell_type": "code",
   "execution_count": 13,
   "id": "3fd00502",
   "metadata": {},
   "outputs": [
    {
     "name": "stdout",
     "output_type": "stream",
     "text": [
      "8\n",
      "9\n",
      "10\n",
      "11\n",
      "Mon\n",
      "Tue\n",
      "Wed\n",
      "Thur\n",
      "Fri\n",
      "Sat\n",
      "Sun\n"
     ]
    }
   ],
   "source": [
    "for x in range (8,12):\n",
    "    print(x)\n",
    "x = (\"Mon\", \"Tue\", \"Wed\", \"Thur\", \"Fri\", \"Sat\", \"Sun\")\n",
    "for h in x:\n",
    "    print(h)"
   ]
  },
  {
   "cell_type": "markdown",
   "id": "de62dc11",
   "metadata": {},
   "source": [
    "### 12_import_libraries"
   ]
  },
  {
   "cell_type": "code",
   "execution_count": 14,
   "id": "35db1ec3",
   "metadata": {},
   "outputs": [
    {
     "name": "stdout",
     "output_type": "stream",
     "text": [
      "The value of pi is 3.141592653589793\n",
      "[150, 250, 350, 450, 550, 650, 750, 850, 950]\n"
     ]
    }
   ],
   "source": [
    "import math\n",
    "print (\"The value of pi is\", math.pi,)\n",
    "\n",
    "import statistics\n",
    "x = [150, 250, 350, 450, 550, 650, 750, 850, 950]\n",
    "print (statistics.multimode(x))"
   ]
  },
  {
   "cell_type": "markdown",
   "id": "7c134d03",
   "metadata": {},
   "source": [
    "### 13_trouble_shooting\n",
    "#### syntax error: Language of python rules must be followed"
   ]
  },
  {
   "cell_type": "code",
   "execution_count": 15,
   "id": "16997864",
   "metadata": {},
   "outputs": [
    {
     "ename": "NameError",
     "evalue": "name 'Print' is not defined",
     "output_type": "error",
     "traceback": [
      "\u001b[1;31m---------------------------------------------------------------------------\u001b[0m",
      "\u001b[1;31mNameError\u001b[0m                                 Traceback (most recent call last)",
      "\u001b[1;32m~\\AppData\\Local\\Temp/ipykernel_4176/4115508805.py\u001b[0m in \u001b[0;36m<module>\u001b[1;34m\u001b[0m\n\u001b[1;32m----> 1\u001b[1;33m \u001b[0mPrint\u001b[0m\u001b[1;33m(\u001b[0m\u001b[1;34m\"wow\"\u001b[0m\u001b[1;33m)\u001b[0m\u001b[1;33m\u001b[0m\u001b[1;33m\u001b[0m\u001b[0m\n\u001b[0m",
      "\u001b[1;31mNameError\u001b[0m: name 'Print' is not defined"
     ]
    }
   ],
   "source": [
    "Print(\"wow\")"
   ]
  },
  {
   "cell_type": "markdown",
   "id": "4ca2d2fb",
   "metadata": {},
   "source": [
    "#### runttime error: equipment error, input error etc\n"
   ]
  },
  {
   "cell_type": "code",
   "execution_count": null,
   "id": "b7f1c89b",
   "metadata": {},
   "outputs": [],
   "source": [
    "print(25/0)"
   ]
  },
  {
   "cell_type": "markdown",
   "id": "38509905",
   "metadata": {},
   "source": [
    "#### semantics error: unexpected results\n"
   ]
  },
  {
   "cell_type": "code",
   "execution_count": 1,
   "id": "1742c3ac",
   "metadata": {},
   "outputs": [
    {
     "name": "stdout",
     "output_type": "stream",
     "text": [
      "hello symantics error\n"
     ]
    }
   ],
   "source": [
    "semantics_error = \"hard_to_find\"\n",
    "print(\"hello symantics error\")"
   ]
  }
 ],
 "metadata": {
  "kernelspec": {
   "display_name": "Python 3 (ipykernel)",
   "language": "python",
   "name": "python3"
  },
  "language_info": {
   "codemirror_mode": {
    "name": "ipython",
    "version": 3
   },
   "file_extension": ".py",
   "mimetype": "text/x-python",
   "name": "python",
   "nbconvert_exporter": "python",
   "pygments_lexer": "ipython3",
   "version": "3.9.7"
  }
 },
 "nbformat": 4,
 "nbformat_minor": 5
}
