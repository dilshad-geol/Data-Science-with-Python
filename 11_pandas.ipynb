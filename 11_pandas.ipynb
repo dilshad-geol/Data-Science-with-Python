{
 "cells": [
  {
   "cell_type": "markdown",
   "id": "690d0943",
   "metadata": {},
   "source": [
    "##   Pandas Library in Python\n",
    "- **Pandas Library** is a very important library containing diferent algorithms and function already written and is used when we have to work on data, different type of analyses and also data manipulation.\n",
    "- it was started developing in 2008 and then in 2009 it became open-source and in 2012 first addition of Pthon for data analysis was published and the in 2015 it was sponsored by NumFOCUS and finally in 2018 first in-persone core developer sprint.\n",
    "\n",
    "###   Why PANDAS?\n",
    "- **Data Manipulation**: is the process of manipulating data in such a way that certain changes makes it organized and easier to read and understand.\n",
    "    - **Purpose**: \n",
    "        - Consistent Data\n",
    "        - Project related data extraction\n",
    "        - Create more value from data \n",
    "        - Remove or ignore unnecessary data\n",
    "        - Image Scrapping(Getting data from Images)\n",
    "- **Data Analysis**: is basically using data to do something productive for example:\n",
    "    - Virtual part of a business\n",
    "    - Learn and Adapt\n",
    "    - Data driven decisions making\n",
    "    - Data driven policy making\n",
    "    - How many likes and responses\n",
    "    - Should I continue soem program?\n",
    "    - How international we are?\n",
    "    - How good is some model?\n",
    "    - Should we ban diesel cars? or import more gas cars?\n",
    "    - Percent of people in something or in relevancy\n",
    "    - Engineering work performances...etc\n",
    "###   Types of Data Analysis\n",
    "- 1. Descriptive analytics: What happened?\n",
    "- 2. Diagnostic analytics:Why did it happen?\n",
    "- 3. Predictive analytics: What is likely to happen in future?\n",
    "- 4. Prescriptive analytics: What is the best course of action to take?\n",
    "\n",
    "###   PANDAS vs MS Excel\n",
    "|**Pandas**|**MS Excel**|\n",
    "---|---|\n",
    "|Data Frame|Worksheet|\n",
    "|Series|Columns|\n",
    "|Index|Row Headings|\n",
    "|Row|Row|\n",
    "|NaN|Empty Cell|\n",
    "\n",
    "##   PANDAS Uses\n",
    "- Python Library\n",
    "- Data Analysis\n",
    "- Data Manipulation\n",
    "- Data Science\n",
    "- Machine Learning(ML)\n",
    "- If your work involves Data you must use it\n",
    "- Load, read, prepare, model and analyze data\n",
    "- Join, merge, filter, reshape\n",
    "- Data from different databases and join in one\n",
    "- Anything with Data\n",
    "- Dataframes = Panadas Data Structure\n",
    "- Kashti data = Downloaded and saved in excel"
   ]
  },
  {
   "cell_type": "markdown",
   "id": "a13d8d0f",
   "metadata": {},
   "source": [
    "##   Working with PANDAS\n",
    "###  Installing and importing PANDAS Library"
   ]
  },
  {
   "cell_type": "code",
   "execution_count": 1,
   "id": "c6c0e279",
   "metadata": {},
   "outputs": [],
   "source": [
    "#installing pandas\n",
    "# pip install pandas\n",
    "#importing PAndas Library\n",
    "import pandas as pd\n",
    "import numpy as np"
   ]
  },
  {
   "cell_type": "code",
   "execution_count": 2,
   "id": "3f698256",
   "metadata": {},
   "outputs": [
    {
     "data": {
      "text/plain": [
       "0    1\n",
       "1    3\n",
       "2    4\n",
       "3    5\n",
       "4    6\n",
       "5    7\n",
       "dtype: int64"
      ]
     },
     "execution_count": 2,
     "metadata": {},
     "output_type": "execute_result"
    }
   ],
   "source": [
    "# Object creation\n",
    "s= pd.Series([1,3,4,5,6,7])\n",
    "# adding empty value\n",
    "# s= pd.Series([1,3,4,np.nan,5,6,7])\n",
    "s"
   ]
  },
  {
   "cell_type": "code",
   "execution_count": 3,
   "id": "66521e60",
   "metadata": {},
   "outputs": [
    {
     "data": {
      "text/plain": [
       "DatetimeIndex(['2013-01-01', '2013-01-02', '2013-01-03', '2013-01-04',\n",
       "               '2013-01-05', '2013-01-06'],\n",
       "              dtype='datetime64[ns]', freq='D')"
      ]
     },
     "execution_count": 3,
     "metadata": {},
     "output_type": "execute_result"
    }
   ],
   "source": [
    "#adding Dates\n",
    "\n",
    "dates = pd.date_range(\"20130101\", periods= 6)\n",
    "dates"
   ]
  },
  {
   "cell_type": "code",
   "execution_count": 4,
   "id": "a3a49a19",
   "metadata": {},
   "outputs": [
    {
     "data": {
      "text/html": [
       "<div>\n",
       "<style scoped>\n",
       "    .dataframe tbody tr th:only-of-type {\n",
       "        vertical-align: middle;\n",
       "    }\n",
       "\n",
       "    .dataframe tbody tr th {\n",
       "        vertical-align: top;\n",
       "    }\n",
       "\n",
       "    .dataframe thead th {\n",
       "        text-align: right;\n",
       "    }\n",
       "</style>\n",
       "<table border=\"1\" class=\"dataframe\">\n",
       "  <thead>\n",
       "    <tr style=\"text-align: right;\">\n",
       "      <th></th>\n",
       "      <th>A</th>\n",
       "      <th>B</th>\n",
       "      <th>C</th>\n",
       "      <th>D</th>\n",
       "    </tr>\n",
       "  </thead>\n",
       "  <tbody>\n",
       "    <tr>\n",
       "      <th>2013-01-01</th>\n",
       "      <td>0.744068</td>\n",
       "      <td>0.707651</td>\n",
       "      <td>-1.499833</td>\n",
       "      <td>-0.065783</td>\n",
       "    </tr>\n",
       "    <tr>\n",
       "      <th>2013-01-02</th>\n",
       "      <td>0.056498</td>\n",
       "      <td>2.667955</td>\n",
       "      <td>-1.575088</td>\n",
       "      <td>0.905107</td>\n",
       "    </tr>\n",
       "    <tr>\n",
       "      <th>2013-01-03</th>\n",
       "      <td>-0.861906</td>\n",
       "      <td>2.361573</td>\n",
       "      <td>0.461547</td>\n",
       "      <td>2.285360</td>\n",
       "    </tr>\n",
       "    <tr>\n",
       "      <th>2013-01-04</th>\n",
       "      <td>-0.261028</td>\n",
       "      <td>-0.272507</td>\n",
       "      <td>2.476634</td>\n",
       "      <td>-1.180546</td>\n",
       "    </tr>\n",
       "    <tr>\n",
       "      <th>2013-01-05</th>\n",
       "      <td>-0.645866</td>\n",
       "      <td>1.099849</td>\n",
       "      <td>-0.116315</td>\n",
       "      <td>-1.513242</td>\n",
       "    </tr>\n",
       "    <tr>\n",
       "      <th>2013-01-06</th>\n",
       "      <td>-0.024248</td>\n",
       "      <td>-1.243800</td>\n",
       "      <td>1.396448</td>\n",
       "      <td>-1.261956</td>\n",
       "    </tr>\n",
       "  </tbody>\n",
       "</table>\n",
       "</div>"
      ],
      "text/plain": [
       "                   A         B         C         D\n",
       "2013-01-01  0.744068  0.707651 -1.499833 -0.065783\n",
       "2013-01-02  0.056498  2.667955 -1.575088  0.905107\n",
       "2013-01-03 -0.861906  2.361573  0.461547  2.285360\n",
       "2013-01-04 -0.261028 -0.272507  2.476634 -1.180546\n",
       "2013-01-05 -0.645866  1.099849 -0.116315 -1.513242\n",
       "2013-01-06 -0.024248 -1.243800  1.396448 -1.261956"
      ]
     },
     "execution_count": 4,
     "metadata": {},
     "output_type": "execute_result"
    }
   ],
   "source": [
    "#Making Data Frames from pandas\n",
    "df = pd.DataFrame(np.random.randn(6,4), index=dates, columns=list(\"ABCD\"))\n",
    "df"
   ]
  },
  {
   "cell_type": "code",
   "execution_count": 5,
   "id": "49510b5c",
   "metadata": {},
   "outputs": [
    {
     "data": {
      "text/html": [
       "<div>\n",
       "<style scoped>\n",
       "    .dataframe tbody tr th:only-of-type {\n",
       "        vertical-align: middle;\n",
       "    }\n",
       "\n",
       "    .dataframe tbody tr th {\n",
       "        vertical-align: top;\n",
       "    }\n",
       "\n",
       "    .dataframe thead th {\n",
       "        text-align: right;\n",
       "    }\n",
       "</style>\n",
       "<table border=\"1\" class=\"dataframe\">\n",
       "  <thead>\n",
       "    <tr style=\"text-align: right;\">\n",
       "      <th></th>\n",
       "      <th>A</th>\n",
       "      <th>B</th>\n",
       "      <th>C</th>\n",
       "      <th>D</th>\n",
       "      <th>E</th>\n",
       "      <th>F</th>\n",
       "    </tr>\n",
       "  </thead>\n",
       "  <tbody>\n",
       "    <tr>\n",
       "      <th>0</th>\n",
       "      <td>1.0</td>\n",
       "      <td>2022-01-11</td>\n",
       "      <td>1.0</td>\n",
       "      <td>3</td>\n",
       "      <td>girl</td>\n",
       "      <td>females</td>\n",
       "    </tr>\n",
       "    <tr>\n",
       "      <th>1</th>\n",
       "      <td>1.0</td>\n",
       "      <td>2022-01-11</td>\n",
       "      <td>1.0</td>\n",
       "      <td>3</td>\n",
       "      <td>woman</td>\n",
       "      <td>females</td>\n",
       "    </tr>\n",
       "    <tr>\n",
       "      <th>2</th>\n",
       "      <td>1.0</td>\n",
       "      <td>2022-01-11</td>\n",
       "      <td>1.0</td>\n",
       "      <td>3</td>\n",
       "      <td>girl</td>\n",
       "      <td>females</td>\n",
       "    </tr>\n",
       "    <tr>\n",
       "      <th>3</th>\n",
       "      <td>1.0</td>\n",
       "      <td>2022-01-11</td>\n",
       "      <td>1.0</td>\n",
       "      <td>3</td>\n",
       "      <td>woman</td>\n",
       "      <td>females</td>\n",
       "    </tr>\n",
       "  </tbody>\n",
       "</table>\n",
       "</div>"
      ],
      "text/plain": [
       "     A          B    C  D      E        F\n",
       "0  1.0 2022-01-11  1.0  3   girl  females\n",
       "1  1.0 2022-01-11  1.0  3  woman  females\n",
       "2  1.0 2022-01-11  1.0  3   girl  females\n",
       "3  1.0 2022-01-11  1.0  3  woman  females"
      ]
     },
     "execution_count": 5,
     "metadata": {},
     "output_type": "execute_result"
    }
   ],
   "source": [
    "#Making Dataframe in dictionaries\n",
    "df2= pd.DataFrame(\n",
    "    {\n",
    "        \"A\" : 1.0,\n",
    "        \"B\":pd.Timestamp(\"20220111\"),\n",
    "        \"C\":pd.Series(1, index = list(range(4)), dtype=\"float32\"),\n",
    "        \"D\":np.array([3]* 4, dtype=\"int32\"),\n",
    "        \"E\":pd.Categorical([\"girl\",\"woman\",\"girl\",\"woman\"]),\n",
    "        \"F\": \"females\",\n",
    "    }\n",
    ")\n",
    "df2"
   ]
  },
  {
   "cell_type": "code",
   "execution_count": 6,
   "id": "e90a6a34",
   "metadata": {},
   "outputs": [
    {
     "data": {
      "text/plain": [
       "A           float64\n",
       "B    datetime64[ns]\n",
       "C           float32\n",
       "D             int32\n",
       "E          category\n",
       "F            object\n",
       "dtype: object"
      ]
     },
     "execution_count": 6,
     "metadata": {},
     "output_type": "execute_result"
    }
   ],
   "source": [
    "#Data types of dictionary\n",
    "df2.dtypes"
   ]
  },
  {
   "cell_type": "code",
   "execution_count": 7,
   "id": "ff2a1b48",
   "metadata": {},
   "outputs": [
    {
     "data": {
      "text/html": [
       "<div>\n",
       "<style scoped>\n",
       "    .dataframe tbody tr th:only-of-type {\n",
       "        vertical-align: middle;\n",
       "    }\n",
       "\n",
       "    .dataframe tbody tr th {\n",
       "        vertical-align: top;\n",
       "    }\n",
       "\n",
       "    .dataframe thead th {\n",
       "        text-align: right;\n",
       "    }\n",
       "</style>\n",
       "<table border=\"1\" class=\"dataframe\">\n",
       "  <thead>\n",
       "    <tr style=\"text-align: right;\">\n",
       "      <th></th>\n",
       "      <th>A</th>\n",
       "      <th>B</th>\n",
       "      <th>C</th>\n",
       "      <th>D</th>\n",
       "      <th>E</th>\n",
       "      <th>F</th>\n",
       "    </tr>\n",
       "  </thead>\n",
       "  <tbody>\n",
       "    <tr>\n",
       "      <th>0</th>\n",
       "      <td>1.0</td>\n",
       "      <td>2022-01-11</td>\n",
       "      <td>1.0</td>\n",
       "      <td>3</td>\n",
       "      <td>girl</td>\n",
       "      <td>females</td>\n",
       "    </tr>\n",
       "    <tr>\n",
       "      <th>1</th>\n",
       "      <td>1.0</td>\n",
       "      <td>2022-01-11</td>\n",
       "      <td>1.0</td>\n",
       "      <td>3</td>\n",
       "      <td>woman</td>\n",
       "      <td>females</td>\n",
       "    </tr>\n",
       "    <tr>\n",
       "      <th>2</th>\n",
       "      <td>1.0</td>\n",
       "      <td>2022-01-11</td>\n",
       "      <td>1.0</td>\n",
       "      <td>3</td>\n",
       "      <td>girl</td>\n",
       "      <td>females</td>\n",
       "    </tr>\n",
       "    <tr>\n",
       "      <th>3</th>\n",
       "      <td>1.0</td>\n",
       "      <td>2022-01-11</td>\n",
       "      <td>1.0</td>\n",
       "      <td>3</td>\n",
       "      <td>woman</td>\n",
       "      <td>females</td>\n",
       "    </tr>\n",
       "  </tbody>\n",
       "</table>\n",
       "</div>"
      ],
      "text/plain": [
       "     A          B    C  D      E        F\n",
       "0  1.0 2022-01-11  1.0  3   girl  females\n",
       "1  1.0 2022-01-11  1.0  3  woman  females\n",
       "2  1.0 2022-01-11  1.0  3   girl  females\n",
       "3  1.0 2022-01-11  1.0  3  woman  females"
      ]
     },
     "execution_count": 7,
     "metadata": {},
     "output_type": "execute_result"
    }
   ],
   "source": [
    "# getting head of data\n",
    "df2.head()"
   ]
  },
  {
   "cell_type": "code",
   "execution_count": 8,
   "id": "947b0bf6",
   "metadata": {},
   "outputs": [
    {
     "data": {
      "text/html": [
       "<div>\n",
       "<style scoped>\n",
       "    .dataframe tbody tr th:only-of-type {\n",
       "        vertical-align: middle;\n",
       "    }\n",
       "\n",
       "    .dataframe tbody tr th {\n",
       "        vertical-align: top;\n",
       "    }\n",
       "\n",
       "    .dataframe thead th {\n",
       "        text-align: right;\n",
       "    }\n",
       "</style>\n",
       "<table border=\"1\" class=\"dataframe\">\n",
       "  <thead>\n",
       "    <tr style=\"text-align: right;\">\n",
       "      <th></th>\n",
       "      <th>A</th>\n",
       "      <th>B</th>\n",
       "      <th>C</th>\n",
       "      <th>D</th>\n",
       "    </tr>\n",
       "  </thead>\n",
       "  <tbody>\n",
       "    <tr>\n",
       "      <th>2013-01-05</th>\n",
       "      <td>-0.645866</td>\n",
       "      <td>1.099849</td>\n",
       "      <td>-0.116315</td>\n",
       "      <td>-1.513242</td>\n",
       "    </tr>\n",
       "    <tr>\n",
       "      <th>2013-01-06</th>\n",
       "      <td>-0.024248</td>\n",
       "      <td>-1.243800</td>\n",
       "      <td>1.396448</td>\n",
       "      <td>-1.261956</td>\n",
       "    </tr>\n",
       "  </tbody>\n",
       "</table>\n",
       "</div>"
      ],
      "text/plain": [
       "                   A         B         C         D\n",
       "2013-01-05 -0.645866  1.099849 -0.116315 -1.513242\n",
       "2013-01-06 -0.024248 -1.243800  1.396448 -1.261956"
      ]
     },
     "execution_count": 8,
     "metadata": {},
     "output_type": "execute_result"
    }
   ],
   "source": [
    "# getting lower data area or tail of data(last 2lines)\n",
    "df.tail(2)"
   ]
  },
  {
   "cell_type": "code",
   "execution_count": 9,
   "id": "c3f76ec9",
   "metadata": {},
   "outputs": [
    {
     "data": {
      "text/plain": [
       "Int64Index([0, 1, 2, 3], dtype='int64')"
      ]
     },
     "execution_count": 9,
     "metadata": {},
     "output_type": "execute_result"
    }
   ],
   "source": [
    "# Getting index of data\n",
    "df2.index"
   ]
  },
  {
   "cell_type": "code",
   "execution_count": 10,
   "id": "beb93aea",
   "metadata": {},
   "outputs": [],
   "source": [
    "#viewing Data from already data available\n",
    "# a = pd.read_csv(\"file directory or link\")\n",
    "# a"
   ]
  },
  {
   "cell_type": "code",
   "execution_count": 11,
   "id": "83385a29",
   "metadata": {},
   "outputs": [
    {
     "data": {
      "text/plain": [
       "array([[ 0.74406768,  0.70765133, -1.49983309, -0.06578282],\n",
       "       [ 0.05649806,  2.66795486, -1.57508844,  0.90510722],\n",
       "       [-0.86190555,  2.36157301,  0.46154715,  2.28536013],\n",
       "       [-0.26102754, -0.27250656,  2.4766341 , -1.18054647],\n",
       "       [-0.64586648,  1.0998494 , -0.11631474, -1.51324173],\n",
       "       [-0.02424752, -1.24379958,  1.39644811, -1.26195633]])"
      ]
     },
     "execution_count": 11,
     "metadata": {},
     "output_type": "execute_result"
    }
   ],
   "source": [
    "# converting data to numpy\n",
    "df.to_numpy()"
   ]
  },
  {
   "cell_type": "code",
   "execution_count": 12,
   "id": "2fa3a2a0",
   "metadata": {},
   "outputs": [
    {
     "data": {
      "text/plain": [
       "array([[ 0.74406768,  0.70765133, -1.49983309, -0.06578282],\n",
       "       [ 0.05649806,  2.66795486, -1.57508844,  0.90510722],\n",
       "       [-0.86190555,  2.36157301,  0.46154715,  2.28536013],\n",
       "       [-0.26102754, -0.27250656,  2.4766341 , -1.18054647],\n",
       "       [-0.64586648,  1.0998494 , -0.11631474, -1.51324173],\n",
       "       [-0.02424752, -1.24379958,  1.39644811, -1.26195633]])"
      ]
     },
     "execution_count": 12,
     "metadata": {},
     "output_type": "execute_result"
    }
   ],
   "source": [
    "# making dict data type to nummpy\n",
    "df.to_numpy()"
   ]
  },
  {
   "cell_type": "code",
   "execution_count": 13,
   "id": "8e31f672",
   "metadata": {},
   "outputs": [
    {
     "data": {
      "text/html": [
       "<div>\n",
       "<style scoped>\n",
       "    .dataframe tbody tr th:only-of-type {\n",
       "        vertical-align: middle;\n",
       "    }\n",
       "\n",
       "    .dataframe tbody tr th {\n",
       "        vertical-align: top;\n",
       "    }\n",
       "\n",
       "    .dataframe thead th {\n",
       "        text-align: right;\n",
       "    }\n",
       "</style>\n",
       "<table border=\"1\" class=\"dataframe\">\n",
       "  <thead>\n",
       "    <tr style=\"text-align: right;\">\n",
       "      <th></th>\n",
       "      <th>A</th>\n",
       "      <th>B</th>\n",
       "      <th>C</th>\n",
       "      <th>D</th>\n",
       "    </tr>\n",
       "  </thead>\n",
       "  <tbody>\n",
       "    <tr>\n",
       "      <th>count</th>\n",
       "      <td>6.000000</td>\n",
       "      <td>6.000000</td>\n",
       "      <td>6.000000</td>\n",
       "      <td>6.000000</td>\n",
       "    </tr>\n",
       "    <tr>\n",
       "      <th>mean</th>\n",
       "      <td>-0.165414</td>\n",
       "      <td>0.886787</td>\n",
       "      <td>0.190566</td>\n",
       "      <td>-0.138510</td>\n",
       "    </tr>\n",
       "    <tr>\n",
       "      <th>std</th>\n",
       "      <td>0.569457</td>\n",
       "      <td>1.503888</td>\n",
       "      <td>1.601428</td>\n",
       "      <td>1.497159</td>\n",
       "    </tr>\n",
       "    <tr>\n",
       "      <th>min</th>\n",
       "      <td>-0.861906</td>\n",
       "      <td>-1.243800</td>\n",
       "      <td>-1.575088</td>\n",
       "      <td>-1.513242</td>\n",
       "    </tr>\n",
       "    <tr>\n",
       "      <th>25%</th>\n",
       "      <td>-0.549657</td>\n",
       "      <td>-0.027467</td>\n",
       "      <td>-1.153954</td>\n",
       "      <td>-1.241604</td>\n",
       "    </tr>\n",
       "    <tr>\n",
       "      <th>50%</th>\n",
       "      <td>-0.142638</td>\n",
       "      <td>0.903750</td>\n",
       "      <td>0.172616</td>\n",
       "      <td>-0.623165</td>\n",
       "    </tr>\n",
       "    <tr>\n",
       "      <th>75%</th>\n",
       "      <td>0.036312</td>\n",
       "      <td>2.046142</td>\n",
       "      <td>1.162723</td>\n",
       "      <td>0.662385</td>\n",
       "    </tr>\n",
       "    <tr>\n",
       "      <th>max</th>\n",
       "      <td>0.744068</td>\n",
       "      <td>2.667955</td>\n",
       "      <td>2.476634</td>\n",
       "      <td>2.285360</td>\n",
       "    </tr>\n",
       "  </tbody>\n",
       "</table>\n",
       "</div>"
      ],
      "text/plain": [
       "              A         B         C         D\n",
       "count  6.000000  6.000000  6.000000  6.000000\n",
       "mean  -0.165414  0.886787  0.190566 -0.138510\n",
       "std    0.569457  1.503888  1.601428  1.497159\n",
       "min   -0.861906 -1.243800 -1.575088 -1.513242\n",
       "25%   -0.549657 -0.027467 -1.153954 -1.241604\n",
       "50%   -0.142638  0.903750  0.172616 -0.623165\n",
       "75%    0.036312  2.046142  1.162723  0.662385\n",
       "max    0.744068  2.667955  2.476634  2.285360"
      ]
     },
     "execution_count": 13,
     "metadata": {},
     "output_type": "execute_result"
    }
   ],
   "source": [
    "#mean #count #std #25% #50%, #75%,#max,# #min\n",
    "df.describe()"
   ]
  },
  {
   "cell_type": "code",
   "execution_count": 14,
   "id": "2e5bad01",
   "metadata": {},
   "outputs": [
    {
     "data": {
      "text/html": [
       "<div>\n",
       "<style scoped>\n",
       "    .dataframe tbody tr th:only-of-type {\n",
       "        vertical-align: middle;\n",
       "    }\n",
       "\n",
       "    .dataframe tbody tr th {\n",
       "        vertical-align: top;\n",
       "    }\n",
       "\n",
       "    .dataframe thead th {\n",
       "        text-align: right;\n",
       "    }\n",
       "</style>\n",
       "<table border=\"1\" class=\"dataframe\">\n",
       "  <thead>\n",
       "    <tr style=\"text-align: right;\">\n",
       "      <th></th>\n",
       "      <th>0</th>\n",
       "      <th>1</th>\n",
       "      <th>2</th>\n",
       "      <th>3</th>\n",
       "    </tr>\n",
       "  </thead>\n",
       "  <tbody>\n",
       "    <tr>\n",
       "      <th>A</th>\n",
       "      <td>1.0</td>\n",
       "      <td>1.0</td>\n",
       "      <td>1.0</td>\n",
       "      <td>1.0</td>\n",
       "    </tr>\n",
       "    <tr>\n",
       "      <th>B</th>\n",
       "      <td>2022-01-11 00:00:00</td>\n",
       "      <td>2022-01-11 00:00:00</td>\n",
       "      <td>2022-01-11 00:00:00</td>\n",
       "      <td>2022-01-11 00:00:00</td>\n",
       "    </tr>\n",
       "    <tr>\n",
       "      <th>C</th>\n",
       "      <td>1.0</td>\n",
       "      <td>1.0</td>\n",
       "      <td>1.0</td>\n",
       "      <td>1.0</td>\n",
       "    </tr>\n",
       "    <tr>\n",
       "      <th>D</th>\n",
       "      <td>3</td>\n",
       "      <td>3</td>\n",
       "      <td>3</td>\n",
       "      <td>3</td>\n",
       "    </tr>\n",
       "    <tr>\n",
       "      <th>E</th>\n",
       "      <td>girl</td>\n",
       "      <td>woman</td>\n",
       "      <td>girl</td>\n",
       "      <td>woman</td>\n",
       "    </tr>\n",
       "    <tr>\n",
       "      <th>F</th>\n",
       "      <td>females</td>\n",
       "      <td>females</td>\n",
       "      <td>females</td>\n",
       "      <td>females</td>\n",
       "    </tr>\n",
       "  </tbody>\n",
       "</table>\n",
       "</div>"
      ],
      "text/plain": [
       "                     0                    1                    2  \\\n",
       "A                  1.0                  1.0                  1.0   \n",
       "B  2022-01-11 00:00:00  2022-01-11 00:00:00  2022-01-11 00:00:00   \n",
       "C                  1.0                  1.0                  1.0   \n",
       "D                    3                    3                    3   \n",
       "E                 girl                woman                 girl   \n",
       "F              females              females              females   \n",
       "\n",
       "                     3  \n",
       "A                  1.0  \n",
       "B  2022-01-11 00:00:00  \n",
       "C                  1.0  \n",
       "D                    3  \n",
       "E                woman  \n",
       "F              females  "
      ]
     },
     "execution_count": 14,
     "metadata": {},
     "output_type": "execute_result"
    }
   ],
   "source": [
    "# Converting Rows to column and column to rows(Transpose)\n",
    "df2.T"
   ]
  },
  {
   "cell_type": "code",
   "execution_count": 15,
   "id": "99a25553",
   "metadata": {},
   "outputs": [
    {
     "data": {
      "text/html": [
       "<div>\n",
       "<style scoped>\n",
       "    .dataframe tbody tr th:only-of-type {\n",
       "        vertical-align: middle;\n",
       "    }\n",
       "\n",
       "    .dataframe tbody tr th {\n",
       "        vertical-align: top;\n",
       "    }\n",
       "\n",
       "    .dataframe thead th {\n",
       "        text-align: right;\n",
       "    }\n",
       "</style>\n",
       "<table border=\"1\" class=\"dataframe\">\n",
       "  <thead>\n",
       "    <tr style=\"text-align: right;\">\n",
       "      <th></th>\n",
       "      <th>D</th>\n",
       "      <th>C</th>\n",
       "      <th>B</th>\n",
       "      <th>A</th>\n",
       "    </tr>\n",
       "  </thead>\n",
       "  <tbody>\n",
       "    <tr>\n",
       "      <th>2013-01-01</th>\n",
       "      <td>-0.065783</td>\n",
       "      <td>-1.499833</td>\n",
       "      <td>0.707651</td>\n",
       "      <td>0.744068</td>\n",
       "    </tr>\n",
       "    <tr>\n",
       "      <th>2013-01-02</th>\n",
       "      <td>0.905107</td>\n",
       "      <td>-1.575088</td>\n",
       "      <td>2.667955</td>\n",
       "      <td>0.056498</td>\n",
       "    </tr>\n",
       "    <tr>\n",
       "      <th>2013-01-03</th>\n",
       "      <td>2.285360</td>\n",
       "      <td>0.461547</td>\n",
       "      <td>2.361573</td>\n",
       "      <td>-0.861906</td>\n",
       "    </tr>\n",
       "    <tr>\n",
       "      <th>2013-01-04</th>\n",
       "      <td>-1.180546</td>\n",
       "      <td>2.476634</td>\n",
       "      <td>-0.272507</td>\n",
       "      <td>-0.261028</td>\n",
       "    </tr>\n",
       "    <tr>\n",
       "      <th>2013-01-05</th>\n",
       "      <td>-1.513242</td>\n",
       "      <td>-0.116315</td>\n",
       "      <td>1.099849</td>\n",
       "      <td>-0.645866</td>\n",
       "    </tr>\n",
       "    <tr>\n",
       "      <th>2013-01-06</th>\n",
       "      <td>-1.261956</td>\n",
       "      <td>1.396448</td>\n",
       "      <td>-1.243800</td>\n",
       "      <td>-0.024248</td>\n",
       "    </tr>\n",
       "  </tbody>\n",
       "</table>\n",
       "</div>"
      ],
      "text/plain": [
       "                   D         C         B         A\n",
       "2013-01-01 -0.065783 -1.499833  0.707651  0.744068\n",
       "2013-01-02  0.905107 -1.575088  2.667955  0.056498\n",
       "2013-01-03  2.285360  0.461547  2.361573 -0.861906\n",
       "2013-01-04 -1.180546  2.476634 -0.272507 -0.261028\n",
       "2013-01-05 -1.513242 -0.116315  1.099849 -0.645866\n",
       "2013-01-06 -1.261956  1.396448 -1.243800 -0.024248"
      ]
     },
     "execution_count": 15,
     "metadata": {},
     "output_type": "execute_result"
    }
   ],
   "source": [
    "# sorting data descending order \n",
    "df.sort_index(axis=1, ascending=False)\n"
   ]
  },
  {
   "cell_type": "code",
   "execution_count": 16,
   "id": "160b9e42",
   "metadata": {},
   "outputs": [
    {
     "data": {
      "text/html": [
       "<div>\n",
       "<style scoped>\n",
       "    .dataframe tbody tr th:only-of-type {\n",
       "        vertical-align: middle;\n",
       "    }\n",
       "\n",
       "    .dataframe tbody tr th {\n",
       "        vertical-align: top;\n",
       "    }\n",
       "\n",
       "    .dataframe thead th {\n",
       "        text-align: right;\n",
       "    }\n",
       "</style>\n",
       "<table border=\"1\" class=\"dataframe\">\n",
       "  <thead>\n",
       "    <tr style=\"text-align: right;\">\n",
       "      <th></th>\n",
       "      <th>A</th>\n",
       "      <th>B</th>\n",
       "      <th>C</th>\n",
       "      <th>D</th>\n",
       "    </tr>\n",
       "  </thead>\n",
       "  <tbody>\n",
       "    <tr>\n",
       "      <th>2013-01-06</th>\n",
       "      <td>-0.024248</td>\n",
       "      <td>-1.243800</td>\n",
       "      <td>1.396448</td>\n",
       "      <td>-1.261956</td>\n",
       "    </tr>\n",
       "    <tr>\n",
       "      <th>2013-01-04</th>\n",
       "      <td>-0.261028</td>\n",
       "      <td>-0.272507</td>\n",
       "      <td>2.476634</td>\n",
       "      <td>-1.180546</td>\n",
       "    </tr>\n",
       "    <tr>\n",
       "      <th>2013-01-01</th>\n",
       "      <td>0.744068</td>\n",
       "      <td>0.707651</td>\n",
       "      <td>-1.499833</td>\n",
       "      <td>-0.065783</td>\n",
       "    </tr>\n",
       "    <tr>\n",
       "      <th>2013-01-05</th>\n",
       "      <td>-0.645866</td>\n",
       "      <td>1.099849</td>\n",
       "      <td>-0.116315</td>\n",
       "      <td>-1.513242</td>\n",
       "    </tr>\n",
       "    <tr>\n",
       "      <th>2013-01-03</th>\n",
       "      <td>-0.861906</td>\n",
       "      <td>2.361573</td>\n",
       "      <td>0.461547</td>\n",
       "      <td>2.285360</td>\n",
       "    </tr>\n",
       "    <tr>\n",
       "      <th>2013-01-02</th>\n",
       "      <td>0.056498</td>\n",
       "      <td>2.667955</td>\n",
       "      <td>-1.575088</td>\n",
       "      <td>0.905107</td>\n",
       "    </tr>\n",
       "  </tbody>\n",
       "</table>\n",
       "</div>"
      ],
      "text/plain": [
       "                   A         B         C         D\n",
       "2013-01-06 -0.024248 -1.243800  1.396448 -1.261956\n",
       "2013-01-04 -0.261028 -0.272507  2.476634 -1.180546\n",
       "2013-01-01  0.744068  0.707651 -1.499833 -0.065783\n",
       "2013-01-05 -0.645866  1.099849 -0.116315 -1.513242\n",
       "2013-01-03 -0.861906  2.361573  0.461547  2.285360\n",
       "2013-01-02  0.056498  2.667955 -1.575088  0.905107"
      ]
     },
     "execution_count": 16,
     "metadata": {},
     "output_type": "execute_result"
    }
   ],
   "source": [
    "# sorting data ascending order \n",
    "df.sort_index(axis=1, ascending=True)\n",
    "# Sorting by column B and ascending\n",
    "df.sort_values(by=\"B\", ascending = True)"
   ]
  },
  {
   "cell_type": "code",
   "execution_count": 17,
   "id": "cc56e9df",
   "metadata": {},
   "outputs": [
    {
     "data": {
      "text/plain": [
       "2013-01-01    0.744068\n",
       "2013-01-02    0.056498\n",
       "2013-01-03   -0.861906\n",
       "2013-01-04   -0.261028\n",
       "2013-01-05   -0.645866\n",
       "2013-01-06   -0.024248\n",
       "Freq: D, Name: A, dtype: float64"
      ]
     },
     "execution_count": 17,
     "metadata": {},
     "output_type": "execute_result"
    }
   ],
   "source": [
    "#selection data from column A\n",
    "df[\"A\"]"
   ]
  },
  {
   "cell_type": "code",
   "execution_count": 18,
   "id": "70548f65",
   "metadata": {},
   "outputs": [
    {
     "data": {
      "text/html": [
       "<div>\n",
       "<style scoped>\n",
       "    .dataframe tbody tr th:only-of-type {\n",
       "        vertical-align: middle;\n",
       "    }\n",
       "\n",
       "    .dataframe tbody tr th {\n",
       "        vertical-align: top;\n",
       "    }\n",
       "\n",
       "    .dataframe thead th {\n",
       "        text-align: right;\n",
       "    }\n",
       "</style>\n",
       "<table border=\"1\" class=\"dataframe\">\n",
       "  <thead>\n",
       "    <tr style=\"text-align: right;\">\n",
       "      <th></th>\n",
       "      <th>A</th>\n",
       "      <th>B</th>\n",
       "      <th>C</th>\n",
       "      <th>D</th>\n",
       "    </tr>\n",
       "  </thead>\n",
       "  <tbody>\n",
       "    <tr>\n",
       "      <th>2013-01-03</th>\n",
       "      <td>-0.861906</td>\n",
       "      <td>2.361573</td>\n",
       "      <td>0.461547</td>\n",
       "      <td>2.285360</td>\n",
       "    </tr>\n",
       "    <tr>\n",
       "      <th>2013-01-04</th>\n",
       "      <td>-0.261028</td>\n",
       "      <td>-0.272507</td>\n",
       "      <td>2.476634</td>\n",
       "      <td>-1.180546</td>\n",
       "    </tr>\n",
       "    <tr>\n",
       "      <th>2013-01-05</th>\n",
       "      <td>-0.645866</td>\n",
       "      <td>1.099849</td>\n",
       "      <td>-0.116315</td>\n",
       "      <td>-1.513242</td>\n",
       "    </tr>\n",
       "  </tbody>\n",
       "</table>\n",
       "</div>"
      ],
      "text/plain": [
       "                   A         B         C         D\n",
       "2013-01-03 -0.861906  2.361573  0.461547  2.285360\n",
       "2013-01-04 -0.261028 -0.272507  2.476634 -1.180546\n",
       "2013-01-05 -0.645866  1.099849 -0.116315 -1.513242"
      ]
     },
     "execution_count": 18,
     "metadata": {},
     "output_type": "execute_result"
    }
   ],
   "source": [
    "#selecting rows by number\n",
    "df[2:5]"
   ]
  },
  {
   "cell_type": "code",
   "execution_count": 19,
   "id": "986edff4",
   "metadata": {},
   "outputs": [
    {
     "data": {
      "text/plain": [
       "A    0.744068\n",
       "B    0.707651\n",
       "C   -1.499833\n",
       "D   -0.065783\n",
       "Name: 2013-01-01 00:00:00, dtype: float64"
      ]
     },
     "execution_count": 19,
     "metadata": {},
     "output_type": "execute_result"
    }
   ],
   "source": [
    "# Select by labels i.e. dates wise in this case\n",
    "df.loc[dates[0]]"
   ]
  },
  {
   "cell_type": "code",
   "execution_count": 20,
   "id": "90adfa02",
   "metadata": {},
   "outputs": [
    {
     "data": {
      "text/html": [
       "<div>\n",
       "<style scoped>\n",
       "    .dataframe tbody tr th:only-of-type {\n",
       "        vertical-align: middle;\n",
       "    }\n",
       "\n",
       "    .dataframe tbody tr th {\n",
       "        vertical-align: top;\n",
       "    }\n",
       "\n",
       "    .dataframe thead th {\n",
       "        text-align: right;\n",
       "    }\n",
       "</style>\n",
       "<table border=\"1\" class=\"dataframe\">\n",
       "  <thead>\n",
       "    <tr style=\"text-align: right;\">\n",
       "      <th></th>\n",
       "      <th>A</th>\n",
       "      <th>B</th>\n",
       "    </tr>\n",
       "  </thead>\n",
       "  <tbody>\n",
       "    <tr>\n",
       "      <th>2013-01-01</th>\n",
       "      <td>0.744068</td>\n",
       "      <td>0.707651</td>\n",
       "    </tr>\n",
       "    <tr>\n",
       "      <th>2013-01-02</th>\n",
       "      <td>0.056498</td>\n",
       "      <td>2.667955</td>\n",
       "    </tr>\n",
       "    <tr>\n",
       "      <th>2013-01-03</th>\n",
       "      <td>-0.861906</td>\n",
       "      <td>2.361573</td>\n",
       "    </tr>\n",
       "    <tr>\n",
       "      <th>2013-01-04</th>\n",
       "      <td>-0.261028</td>\n",
       "      <td>-0.272507</td>\n",
       "    </tr>\n",
       "    <tr>\n",
       "      <th>2013-01-05</th>\n",
       "      <td>-0.645866</td>\n",
       "      <td>1.099849</td>\n",
       "    </tr>\n",
       "    <tr>\n",
       "      <th>2013-01-06</th>\n",
       "      <td>-0.024248</td>\n",
       "      <td>-1.243800</td>\n",
       "    </tr>\n",
       "  </tbody>\n",
       "</table>\n",
       "</div>"
      ],
      "text/plain": [
       "                   A         B\n",
       "2013-01-01  0.744068  0.707651\n",
       "2013-01-02  0.056498  2.667955\n",
       "2013-01-03 -0.861906  2.361573\n",
       "2013-01-04 -0.261028 -0.272507\n",
       "2013-01-05 -0.645866  1.099849\n",
       "2013-01-06 -0.024248 -1.243800"
      ]
     },
     "execution_count": 20,
     "metadata": {},
     "output_type": "execute_result"
    }
   ],
   "source": [
    "#using multiple axis labels\n",
    "# df.loc[:(Setting rows),[\"A\",\"B\"](Setting labels)]\n",
    "df.loc[:,[\"A\",\"B\"]]"
   ]
  },
  {
   "cell_type": "code",
   "execution_count": 21,
   "id": "d649690d",
   "metadata": {},
   "outputs": [
    {
     "data": {
      "text/html": [
       "<div>\n",
       "<style scoped>\n",
       "    .dataframe tbody tr th:only-of-type {\n",
       "        vertical-align: middle;\n",
       "    }\n",
       "\n",
       "    .dataframe tbody tr th {\n",
       "        vertical-align: top;\n",
       "    }\n",
       "\n",
       "    .dataframe thead th {\n",
       "        text-align: right;\n",
       "    }\n",
       "</style>\n",
       "<table border=\"1\" class=\"dataframe\">\n",
       "  <thead>\n",
       "    <tr style=\"text-align: right;\">\n",
       "      <th></th>\n",
       "      <th>A</th>\n",
       "      <th>B</th>\n",
       "      <th>C</th>\n",
       "    </tr>\n",
       "  </thead>\n",
       "  <tbody>\n",
       "    <tr>\n",
       "      <th>2013-01-01</th>\n",
       "      <td>0.744068</td>\n",
       "      <td>0.707651</td>\n",
       "      <td>-1.499833</td>\n",
       "    </tr>\n",
       "    <tr>\n",
       "      <th>2013-01-02</th>\n",
       "      <td>0.056498</td>\n",
       "      <td>2.667955</td>\n",
       "      <td>-1.575088</td>\n",
       "    </tr>\n",
       "    <tr>\n",
       "      <th>2013-01-03</th>\n",
       "      <td>-0.861906</td>\n",
       "      <td>2.361573</td>\n",
       "      <td>0.461547</td>\n",
       "    </tr>\n",
       "    <tr>\n",
       "      <th>2013-01-04</th>\n",
       "      <td>-0.261028</td>\n",
       "      <td>-0.272507</td>\n",
       "      <td>2.476634</td>\n",
       "    </tr>\n",
       "  </tbody>\n",
       "</table>\n",
       "</div>"
      ],
      "text/plain": [
       "                   A         B         C\n",
       "2013-01-01  0.744068  0.707651 -1.499833\n",
       "2013-01-02  0.056498  2.667955 -1.575088\n",
       "2013-01-03 -0.861906  2.361573  0.461547\n",
       "2013-01-04 -0.261028 -0.272507  2.476634"
      ]
     },
     "execution_count": 21,
     "metadata": {},
     "output_type": "execute_result"
    }
   ],
   "source": [
    "#getting data by rows and labels setting\n",
    "df.loc[\"20130101\":\"20130104\", [\"A\",\"B\",\"C\"]]"
   ]
  },
  {
   "cell_type": "code",
   "execution_count": 22,
   "id": "d559a29b",
   "metadata": {},
   "outputs": [
    {
     "data": {
      "text/plain": [
       "A    0.744068\n",
       "B    0.707651\n",
       "C   -1.499833\n",
       "Name: 2013-01-01 00:00:00, dtype: float64"
      ]
     },
     "execution_count": 22,
     "metadata": {},
     "output_type": "execute_result"
    }
   ],
   "source": [
    "#getting data by rows and labels setting with specified dimensions\n",
    "\n",
    "df.loc[\"20130101\", [\"A\",\"B\",\"C\"]]"
   ]
  },
  {
   "cell_type": "code",
   "execution_count": 23,
   "id": "873c7a48",
   "metadata": {},
   "outputs": [
    {
     "data": {
      "text/plain": [
       "-0.6458664841686863"
      ]
     },
     "execution_count": 23,
     "metadata": {},
     "output_type": "execute_result"
    }
   ],
   "source": [
    "# getting Specified cell data \n",
    "df.at[dates[4],\"A\"]"
   ]
  },
  {
   "cell_type": "code",
   "execution_count": 24,
   "id": "76389020",
   "metadata": {},
   "outputs": [
    {
     "data": {
      "text/plain": [
       "A   -0.861906\n",
       "B    2.361573\n",
       "C    0.461547\n",
       "D    2.285360\n",
       "Name: 2013-01-03 00:00:00, dtype: float64"
      ]
     },
     "execution_count": 24,
     "metadata": {},
     "output_type": "execute_result"
    }
   ],
   "source": [
    "# GEtting data based on position\n",
    "df.iloc[2]"
   ]
  },
  {
   "cell_type": "code",
   "execution_count": 25,
   "id": "bff8ff0e",
   "metadata": {},
   "outputs": [
    {
     "data": {
      "text/html": [
       "<div>\n",
       "<style scoped>\n",
       "    .dataframe tbody tr th:only-of-type {\n",
       "        vertical-align: middle;\n",
       "    }\n",
       "\n",
       "    .dataframe tbody tr th {\n",
       "        vertical-align: top;\n",
       "    }\n",
       "\n",
       "    .dataframe thead th {\n",
       "        text-align: right;\n",
       "    }\n",
       "</style>\n",
       "<table border=\"1\" class=\"dataframe\">\n",
       "  <thead>\n",
       "    <tr style=\"text-align: right;\">\n",
       "      <th></th>\n",
       "      <th>A</th>\n",
       "      <th>B</th>\n",
       "    </tr>\n",
       "  </thead>\n",
       "  <tbody>\n",
       "    <tr>\n",
       "      <th>2013-01-01</th>\n",
       "      <td>0.744068</td>\n",
       "      <td>0.707651</td>\n",
       "    </tr>\n",
       "    <tr>\n",
       "      <th>2013-01-02</th>\n",
       "      <td>0.056498</td>\n",
       "      <td>2.667955</td>\n",
       "    </tr>\n",
       "    <tr>\n",
       "      <th>2013-01-03</th>\n",
       "      <td>-0.861906</td>\n",
       "      <td>2.361573</td>\n",
       "    </tr>\n",
       "    <tr>\n",
       "      <th>2013-01-04</th>\n",
       "      <td>-0.261028</td>\n",
       "      <td>-0.272507</td>\n",
       "    </tr>\n",
       "    <tr>\n",
       "      <th>2013-01-05</th>\n",
       "      <td>-0.645866</td>\n",
       "      <td>1.099849</td>\n",
       "    </tr>\n",
       "    <tr>\n",
       "      <th>2013-01-06</th>\n",
       "      <td>-0.024248</td>\n",
       "      <td>-1.243800</td>\n",
       "    </tr>\n",
       "  </tbody>\n",
       "</table>\n",
       "</div>"
      ],
      "text/plain": [
       "                   A         B\n",
       "2013-01-01  0.744068  0.707651\n",
       "2013-01-02  0.056498  2.667955\n",
       "2013-01-03 -0.861906  2.361573\n",
       "2013-01-04 -0.261028 -0.272507\n",
       "2013-01-05 -0.645866  1.099849\n",
       "2013-01-06 -0.024248 -1.243800"
      ]
     },
     "execution_count": 25,
     "metadata": {},
     "output_type": "execute_result"
    }
   ],
   "source": [
    "#getting specified data from columns\n",
    "df.iloc[:, 0:2]"
   ]
  },
  {
   "cell_type": "code",
   "execution_count": 26,
   "id": "a3c30f81",
   "metadata": {},
   "outputs": [
    {
     "data": {
      "text/html": [
       "<div>\n",
       "<style scoped>\n",
       "    .dataframe tbody tr th:only-of-type {\n",
       "        vertical-align: middle;\n",
       "    }\n",
       "\n",
       "    .dataframe tbody tr th {\n",
       "        vertical-align: top;\n",
       "    }\n",
       "\n",
       "    .dataframe thead th {\n",
       "        text-align: right;\n",
       "    }\n",
       "</style>\n",
       "<table border=\"1\" class=\"dataframe\">\n",
       "  <thead>\n",
       "    <tr style=\"text-align: right;\">\n",
       "      <th></th>\n",
       "      <th>A</th>\n",
       "      <th>B</th>\n",
       "      <th>C</th>\n",
       "      <th>D</th>\n",
       "    </tr>\n",
       "  </thead>\n",
       "  <tbody>\n",
       "    <tr>\n",
       "      <th>2013-01-01</th>\n",
       "      <td>0.744068</td>\n",
       "      <td>0.707651</td>\n",
       "      <td>-1.499833</td>\n",
       "      <td>-0.065783</td>\n",
       "    </tr>\n",
       "    <tr>\n",
       "      <th>2013-01-02</th>\n",
       "      <td>0.056498</td>\n",
       "      <td>2.667955</td>\n",
       "      <td>-1.575088</td>\n",
       "      <td>0.905107</td>\n",
       "    </tr>\n",
       "    <tr>\n",
       "      <th>2013-01-03</th>\n",
       "      <td>-0.861906</td>\n",
       "      <td>2.361573</td>\n",
       "      <td>0.461547</td>\n",
       "      <td>2.285360</td>\n",
       "    </tr>\n",
       "    <tr>\n",
       "      <th>2013-01-05</th>\n",
       "      <td>-0.645866</td>\n",
       "      <td>1.099849</td>\n",
       "      <td>-0.116315</td>\n",
       "      <td>-1.513242</td>\n",
       "    </tr>\n",
       "  </tbody>\n",
       "</table>\n",
       "</div>"
      ],
      "text/plain": [
       "                   A         B         C         D\n",
       "2013-01-01  0.744068  0.707651 -1.499833 -0.065783\n",
       "2013-01-02  0.056498  2.667955 -1.575088  0.905107\n",
       "2013-01-03 -0.861906  2.361573  0.461547  2.285360\n",
       "2013-01-05 -0.645866  1.099849 -0.116315 -1.513242"
      ]
     },
     "execution_count": 26,
     "metadata": {},
     "output_type": "execute_result"
    }
   ],
   "source": [
    "#Getting Values greater than something, or filtering special\n",
    "df[df[\"B\"] > 0]"
   ]
  },
  {
   "cell_type": "code",
   "execution_count": 27,
   "id": "16b628e3",
   "metadata": {},
   "outputs": [],
   "source": [
    "#copying data\n",
    "df3 = df.copy()\n"
   ]
  },
  {
   "cell_type": "code",
   "execution_count": 28,
   "id": "af7704b9",
   "metadata": {},
   "outputs": [
    {
     "data": {
      "text/html": [
       "<div>\n",
       "<style scoped>\n",
       "    .dataframe tbody tr th:only-of-type {\n",
       "        vertical-align: middle;\n",
       "    }\n",
       "\n",
       "    .dataframe tbody tr th {\n",
       "        vertical-align: top;\n",
       "    }\n",
       "\n",
       "    .dataframe thead th {\n",
       "        text-align: right;\n",
       "    }\n",
       "</style>\n",
       "<table border=\"1\" class=\"dataframe\">\n",
       "  <thead>\n",
       "    <tr style=\"text-align: right;\">\n",
       "      <th></th>\n",
       "      <th>A</th>\n",
       "      <th>B</th>\n",
       "      <th>C</th>\n",
       "      <th>D</th>\n",
       "      <th>E</th>\n",
       "    </tr>\n",
       "  </thead>\n",
       "  <tbody>\n",
       "    <tr>\n",
       "      <th>2013-01-01</th>\n",
       "      <td>0.744068</td>\n",
       "      <td>0.707651</td>\n",
       "      <td>-1.499833</td>\n",
       "      <td>-0.065783</td>\n",
       "      <td>one</td>\n",
       "    </tr>\n",
       "    <tr>\n",
       "      <th>2013-01-02</th>\n",
       "      <td>0.056498</td>\n",
       "      <td>2.667955</td>\n",
       "      <td>-1.575088</td>\n",
       "      <td>0.905107</td>\n",
       "      <td>one</td>\n",
       "    </tr>\n",
       "    <tr>\n",
       "      <th>2013-01-03</th>\n",
       "      <td>-0.861906</td>\n",
       "      <td>2.361573</td>\n",
       "      <td>0.461547</td>\n",
       "      <td>2.285360</td>\n",
       "      <td>One</td>\n",
       "    </tr>\n",
       "    <tr>\n",
       "      <th>2013-01-04</th>\n",
       "      <td>-0.261028</td>\n",
       "      <td>-0.272507</td>\n",
       "      <td>2.476634</td>\n",
       "      <td>-1.180546</td>\n",
       "      <td>Three</td>\n",
       "    </tr>\n",
       "    <tr>\n",
       "      <th>2013-01-05</th>\n",
       "      <td>-0.645866</td>\n",
       "      <td>1.099849</td>\n",
       "      <td>-0.116315</td>\n",
       "      <td>-1.513242</td>\n",
       "      <td>One</td>\n",
       "    </tr>\n",
       "    <tr>\n",
       "      <th>2013-01-06</th>\n",
       "      <td>-0.024248</td>\n",
       "      <td>-1.243800</td>\n",
       "      <td>1.396448</td>\n",
       "      <td>-1.261956</td>\n",
       "      <td>Three</td>\n",
       "    </tr>\n",
       "  </tbody>\n",
       "</table>\n",
       "</div>"
      ],
      "text/plain": [
       "                   A         B         C         D      E\n",
       "2013-01-01  0.744068  0.707651 -1.499833 -0.065783    one\n",
       "2013-01-02  0.056498  2.667955 -1.575088  0.905107    one\n",
       "2013-01-03 -0.861906  2.361573  0.461547  2.285360    One\n",
       "2013-01-04 -0.261028 -0.272507  2.476634 -1.180546  Three\n",
       "2013-01-05 -0.645866  1.099849 -0.116315 -1.513242    One\n",
       "2013-01-06 -0.024248 -1.243800  1.396448 -1.261956  Three"
      ]
     },
     "execution_count": 28,
     "metadata": {},
     "output_type": "execute_result"
    }
   ],
   "source": [
    "#Concatenating a column but remeber to add all values in column cells\n",
    "df3[\"E\"]  = [\"one\",\"one\", \"One\", \"Three\",\"One\", \"Three\"]\n",
    "df3"
   ]
  },
  {
   "cell_type": "code",
   "execution_count": 29,
   "id": "a21e2d82",
   "metadata": {},
   "outputs": [
    {
     "data": {
      "text/html": [
       "<div>\n",
       "<style scoped>\n",
       "    .dataframe tbody tr th:only-of-type {\n",
       "        vertical-align: middle;\n",
       "    }\n",
       "\n",
       "    .dataframe tbody tr th {\n",
       "        vertical-align: top;\n",
       "    }\n",
       "\n",
       "    .dataframe thead th {\n",
       "        text-align: right;\n",
       "    }\n",
       "</style>\n",
       "<table border=\"1\" class=\"dataframe\">\n",
       "  <thead>\n",
       "    <tr style=\"text-align: right;\">\n",
       "      <th></th>\n",
       "      <th>A</th>\n",
       "      <th>B</th>\n",
       "      <th>C</th>\n",
       "      <th>D</th>\n",
       "      <th>E</th>\n",
       "      <th>mean</th>\n",
       "    </tr>\n",
       "  </thead>\n",
       "  <tbody>\n",
       "    <tr>\n",
       "      <th>2013-01-01</th>\n",
       "      <td>0.744068</td>\n",
       "      <td>0.707651</td>\n",
       "      <td>-1.499833</td>\n",
       "      <td>-0.065783</td>\n",
       "      <td>one</td>\n",
       "      <td>False</td>\n",
       "    </tr>\n",
       "    <tr>\n",
       "      <th>2013-01-02</th>\n",
       "      <td>0.056498</td>\n",
       "      <td>2.667955</td>\n",
       "      <td>-1.575088</td>\n",
       "      <td>0.905107</td>\n",
       "      <td>one</td>\n",
       "      <td>True</td>\n",
       "    </tr>\n",
       "    <tr>\n",
       "      <th>2013-01-03</th>\n",
       "      <td>-0.861906</td>\n",
       "      <td>2.361573</td>\n",
       "      <td>0.461547</td>\n",
       "      <td>2.285360</td>\n",
       "      <td>One</td>\n",
       "      <td>True</td>\n",
       "    </tr>\n",
       "    <tr>\n",
       "      <th>2013-01-04</th>\n",
       "      <td>-0.261028</td>\n",
       "      <td>-0.272507</td>\n",
       "      <td>2.476634</td>\n",
       "      <td>-1.180546</td>\n",
       "      <td>Three</td>\n",
       "      <td>False</td>\n",
       "    </tr>\n",
       "    <tr>\n",
       "      <th>2013-01-05</th>\n",
       "      <td>-0.645866</td>\n",
       "      <td>1.099849</td>\n",
       "      <td>-0.116315</td>\n",
       "      <td>-1.513242</td>\n",
       "      <td>One</td>\n",
       "      <td>False</td>\n",
       "    </tr>\n",
       "    <tr>\n",
       "      <th>2013-01-06</th>\n",
       "      <td>-0.024248</td>\n",
       "      <td>-1.243800</td>\n",
       "      <td>1.396448</td>\n",
       "      <td>-1.261956</td>\n",
       "      <td>Three</td>\n",
       "      <td>False</td>\n",
       "    </tr>\n",
       "  </tbody>\n",
       "</table>\n",
       "</div>"
      ],
      "text/plain": [
       "                   A         B         C         D      E   mean\n",
       "2013-01-01  0.744068  0.707651 -1.499833 -0.065783    one  False\n",
       "2013-01-02  0.056498  2.667955 -1.575088  0.905107    one   True\n",
       "2013-01-03 -0.861906  2.361573  0.461547  2.285360    One   True\n",
       "2013-01-04 -0.261028 -0.272507  2.476634 -1.180546  Three  False\n",
       "2013-01-05 -0.645866  1.099849 -0.116315 -1.513242    One  False\n",
       "2013-01-06 -0.024248 -1.243800  1.396448 -1.261956  Three  False"
      ]
     },
     "execution_count": 29,
     "metadata": {},
     "output_type": "execute_result"
    }
   ],
   "source": [
    "#adding another column with defined perimeters\n",
    "df3[\"mean\"] = df[\"B\"] > 1.2\n",
    "df3"
   ]
  },
  {
   "cell_type": "code",
   "execution_count": 30,
   "id": "3891932c",
   "metadata": {},
   "outputs": [
    {
     "data": {
      "text/html": [
       "<div>\n",
       "<style scoped>\n",
       "    .dataframe tbody tr th:only-of-type {\n",
       "        vertical-align: middle;\n",
       "    }\n",
       "\n",
       "    .dataframe tbody tr th {\n",
       "        vertical-align: top;\n",
       "    }\n",
       "\n",
       "    .dataframe thead th {\n",
       "        text-align: right;\n",
       "    }\n",
       "</style>\n",
       "<table border=\"1\" class=\"dataframe\">\n",
       "  <thead>\n",
       "    <tr style=\"text-align: right;\">\n",
       "      <th></th>\n",
       "      <th>A</th>\n",
       "      <th>B</th>\n",
       "      <th>C</th>\n",
       "      <th>D</th>\n",
       "    </tr>\n",
       "  </thead>\n",
       "  <tbody>\n",
       "    <tr>\n",
       "      <th>2013-01-01</th>\n",
       "      <td>0.744068</td>\n",
       "      <td>0.707651</td>\n",
       "      <td>-1.499833</td>\n",
       "      <td>-0.065783</td>\n",
       "    </tr>\n",
       "    <tr>\n",
       "      <th>2013-01-02</th>\n",
       "      <td>0.056498</td>\n",
       "      <td>2.667955</td>\n",
       "      <td>-1.575088</td>\n",
       "      <td>0.905107</td>\n",
       "    </tr>\n",
       "    <tr>\n",
       "      <th>2013-01-03</th>\n",
       "      <td>-0.861906</td>\n",
       "      <td>2.361573</td>\n",
       "      <td>0.461547</td>\n",
       "      <td>2.285360</td>\n",
       "    </tr>\n",
       "    <tr>\n",
       "      <th>2013-01-04</th>\n",
       "      <td>-0.261028</td>\n",
       "      <td>-0.272507</td>\n",
       "      <td>2.476634</td>\n",
       "      <td>-1.180546</td>\n",
       "    </tr>\n",
       "    <tr>\n",
       "      <th>2013-01-05</th>\n",
       "      <td>-0.645866</td>\n",
       "      <td>1.099849</td>\n",
       "      <td>-0.116315</td>\n",
       "      <td>-1.513242</td>\n",
       "    </tr>\n",
       "    <tr>\n",
       "      <th>2013-01-06</th>\n",
       "      <td>-0.024248</td>\n",
       "      <td>-1.243800</td>\n",
       "      <td>1.396448</td>\n",
       "      <td>-1.261956</td>\n",
       "    </tr>\n",
       "  </tbody>\n",
       "</table>\n",
       "</div>"
      ],
      "text/plain": [
       "                   A         B         C         D\n",
       "2013-01-01  0.744068  0.707651 -1.499833 -0.065783\n",
       "2013-01-02  0.056498  2.667955 -1.575088  0.905107\n",
       "2013-01-03 -0.861906  2.361573  0.461547  2.285360\n",
       "2013-01-04 -0.261028 -0.272507  2.476634 -1.180546\n",
       "2013-01-05 -0.645866  1.099849 -0.116315 -1.513242\n",
       "2013-01-06 -0.024248 -1.243800  1.396448 -1.261956"
      ]
     },
     "execution_count": 30,
     "metadata": {},
     "output_type": "execute_result"
    }
   ],
   "source": [
    "# selecting specific column to keep and removing extra columns\n",
    "df3= df3.iloc[:, 0:4]\n",
    "df3"
   ]
  }
 ],
 "metadata": {
  "kernelspec": {
   "display_name": "Python 3 (ipykernel)",
   "language": "python",
   "name": "python3"
  },
  "language_info": {
   "codemirror_mode": {
    "name": "ipython",
    "version": 3
   },
   "file_extension": ".py",
   "mimetype": "text/x-python",
   "name": "python",
   "nbconvert_exporter": "python",
   "pygments_lexer": "ipython3",
   "version": "3.9.7"
  }
 },
 "nbformat": 4,
 "nbformat_minor": 5
}
