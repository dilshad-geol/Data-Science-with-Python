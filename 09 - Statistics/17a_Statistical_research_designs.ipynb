{
 "cells": [
  {
   "cell_type": "markdown",
   "metadata": {},
   "source": [
    "# Chapter No. 09: *Statistical Research Designs*\n",
    "## *CRD vs RCBD vs LSD*\n",
    "\n",
    "**Research Designs**: are important because whenever you have to make questions for hypothesis, research designs gives us different outputs so, research design matters.\n",
    "\n",
    "|1|2|3|\n",
    "|-----|-----|-----|\n",
    "|**CRD**|**RCBD**|**LSD**|\n",
    "|Completely Randomized Design(Each experimental unit is randomly assigned to one of the treatments)|Randomized Complete Block Design|Latin Square design|\n",
    "\n",
    "**1- Completely Randomized Design (CRD)**\n",
    "\n",
    "- Each experimental unit is randomly assigned to one of the treatments.\n",
    "  - Example:\n",
    "    - we have 20 goats, so we provide them food 1 and food 2 half and half of goats. so making such categories and then experimenting is an example of CRD.\n",
    "**2- Randomized Complete Block Design(RCBD)**\n",
    "- Two step process:\n",
    "  - Make the block\n",
    "  - Repeat the smae thing from CRD\n",
    "\n",
    "**3- Latin Square Design (LSD)**:\n",
    "- Similar to square\n",
    "- Rows = Columns\n",
    "  - 3*3\n",
    "  - 4*4\n",
    "  - 2*2\n",
    "- Each experimental unit will get all treatments but in square style.\n",
    "- No repitition of treatments in ROWs or Columns\n",
    "- Useful when you have less resources\n",
    "\n",
    "**There are certain other designs that are also used but **\n"
   ]
  },
  {
   "cell_type": "markdown",
   "metadata": {},
   "source": []
  }
 ],
 "metadata": {
  "interpreter": {
   "hash": "18356a1fc69854ab157a114089e0ab91e679603d3ee092b990c09ee18435de1b"
  },
  "kernelspec": {
   "display_name": "Python 3.10.1 64-bit",
   "language": "python",
   "name": "python3"
  },
  "language_info": {
   "name": "python",
   "version": "3.10.1"
  },
  "orig_nbformat": 4
 },
 "nbformat": 4,
 "nbformat_minor": 2
}
