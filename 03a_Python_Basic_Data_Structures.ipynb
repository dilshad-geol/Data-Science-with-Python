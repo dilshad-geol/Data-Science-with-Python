{
 "cells": [
  {
   "cell_type": "markdown",
   "id": "e1867f5a",
   "metadata": {},
   "source": [
    "# Basic Data structures in Python\n",
    "#### 1- Tuples\n",
    "#### 2- List\n",
    "#### 3- Dictionaries\n",
    "#### 4- sets"
   ]
  },
  {
   "cell_type": "markdown",
   "id": "95ffedf9",
   "metadata": {},
   "source": [
    "## 1- Tuple"
   ]
  },
  {
   "cell_type": "markdown",
   "id": "e9ae1def",
   "metadata": {},
   "source": [
    "- Ordered collections of elements\n",
    "- Enclosed in round brackets() or paranthesis.\n",
    "- Different kinds of elements can be stored.(int, str, float, Boolean Operators)\n",
    "- Once elements are stored, then you cant change them.(Unmutatable)"
   ]
  },
  {
   "cell_type": "code",
   "execution_count": null,
   "id": "60461ab8",
   "metadata": {},
   "outputs": [],
   "source": [
    "tupl= (1, \"Python\", True, 2.5)\n",
    "tupl"
   ]
  },
  {
   "cell_type": "code",
   "execution_count": null,
   "id": "85cd2d31",
   "metadata": {},
   "outputs": [],
   "source": [
    "#Tuple Type\n",
    "print(type(tupl))"
   ]
  },
  {
   "cell_type": "markdown",
   "id": "2dc14277",
   "metadata": {},
   "source": [
    "### -Indexing in tuple"
   ]
  },
  {
   "cell_type": "code",
   "execution_count": null,
   "id": "a5e199ee",
   "metadata": {},
   "outputs": [],
   "source": [
    "tupl= (1, \"Python\", True, 2.5)"
   ]
  },
  {
   "cell_type": "code",
   "execution_count": null,
   "id": "157ff20d",
   "metadata": {},
   "outputs": [],
   "source": [
    "tupl[2]"
   ]
  },
  {
   "cell_type": "code",
   "execution_count": null,
   "id": "149d1f81",
   "metadata": {},
   "outputs": [],
   "source": [
    "tupl[0]"
   ]
  },
  {
   "cell_type": "code",
   "execution_count": null,
   "id": "c328c2b2",
   "metadata": {},
   "outputs": [],
   "source": [
    "tupl[1]"
   ]
  },
  {
   "cell_type": "code",
   "execution_count": null,
   "id": "efe3c17c",
   "metadata": {},
   "outputs": [],
   "source": [
    "tupl[3]"
   ]
  },
  {
   "cell_type": "code",
   "execution_count": null,
   "id": "39418fe6",
   "metadata": {},
   "outputs": [],
   "source": [
    "#last element is exclusive\n",
    "tupl[0:3]"
   ]
  },
  {
   "cell_type": "code",
   "execution_count": null,
   "id": "ce405c11",
   "metadata": {},
   "outputs": [],
   "source": [
    "#counts of elements in tuple\n",
    "len(tupl)"
   ]
  },
  {
   "cell_type": "code",
   "execution_count": null,
   "id": "fa67312f",
   "metadata": {},
   "outputs": [],
   "source": [
    "tupl2 = (9, \"Ka Chilla\", False, 7.5)\n",
    "tupl2"
   ]
  },
  {
   "cell_type": "code",
   "execution_count": null,
   "id": "3be39b03",
   "metadata": {},
   "outputs": [],
   "source": [
    "#Concatinate + Repeat\n",
    "tupl12 = tupl + tupl2\n",
    "tupl12"
   ]
  },
  {
   "cell_type": "code",
   "execution_count": null,
   "id": "da7e0160",
   "metadata": {},
   "outputs": [],
   "source": [
    "#Only integers in tuple would multiply\n",
    "tupl *2 + tupl2"
   ]
  },
  {
   "cell_type": "code",
   "execution_count": null,
   "id": "27e5484c",
   "metadata": {},
   "outputs": [],
   "source": [
    "tupl3 = (20, 30,40,50,)\n",
    "tupl3"
   ]
  },
  {
   "cell_type": "code",
   "execution_count": null,
   "id": "e00c9b94",
   "metadata": {},
   "outputs": [],
   "source": [
    "#Multiplication\n",
    "tupl4 =tupl3* 3\n",
    "tupl4\n"
   ]
  },
  {
   "cell_type": "code",
   "execution_count": null,
   "id": "c105e30e",
   "metadata": {},
   "outputs": [],
   "source": [
    "#Maximum\n",
    "max(tupl3)"
   ]
  },
  {
   "cell_type": "code",
   "execution_count": null,
   "id": "c3f1c639",
   "metadata": {},
   "outputs": [],
   "source": [
    "#Minimum\n",
    "min(tupl3)"
   ]
  },
  {
   "cell_type": "markdown",
   "id": "2ac4c559",
   "metadata": {},
   "source": [
    "---"
   ]
  },
  {
   "cell_type": "markdown",
   "id": "24294589",
   "metadata": {},
   "source": [
    "## 2- Lists"
   ]
  },
  {
   "cell_type": "markdown",
   "id": "3db58fec",
   "metadata": {},
   "source": [
    "- Ordered collection of elements\n",
    "- Enclosed in []Square braces/Brackets\n",
    "- Mutatable, Value within can be changed."
   ]
  },
  {
   "cell_type": "code",
   "execution_count": null,
   "id": "4a349020",
   "metadata": {},
   "outputs": [],
   "source": [
    "list1= [1, \"Python\", True, 2.5]\n",
    "list1"
   ]
  },
  {
   "cell_type": "code",
   "execution_count": null,
   "id": "6097ce38",
   "metadata": {},
   "outputs": [],
   "source": [
    "type(list1)"
   ]
  },
  {
   "cell_type": "code",
   "execution_count": null,
   "id": "7b6e6ff3",
   "metadata": {},
   "outputs": [],
   "source": [
    "len(list1)"
   ]
  },
  {
   "cell_type": "code",
   "execution_count": null,
   "id": "fa63b335",
   "metadata": {},
   "outputs": [],
   "source": [
    "list1[2]"
   ]
  },
  {
   "cell_type": "code",
   "execution_count": null,
   "id": "dbd03eb9",
   "metadata": {},
   "outputs": [],
   "source": [
    "list2 = [53.2, \"dilshad\", 3, 5, 478, False, True,]\n",
    "list2"
   ]
  },
  {
   "cell_type": "code",
   "execution_count": null,
   "id": "f5112db2",
   "metadata": {},
   "outputs": [],
   "source": [
    "list1 + list2"
   ]
  },
  {
   "cell_type": "code",
   "execution_count": null,
   "id": "9286c8ea",
   "metadata": {},
   "outputs": [],
   "source": [
    "list1*2"
   ]
  },
  {
   "cell_type": "code",
   "execution_count": null,
   "id": "4290139e",
   "metadata": {},
   "outputs": [],
   "source": [
    "list2*1"
   ]
  },
  {
   "cell_type": "code",
   "execution_count": null,
   "id": "95ffece8",
   "metadata": {},
   "outputs": [],
   "source": [
    "list2.reverse()\n",
    "list2"
   ]
  },
  {
   "cell_type": "code",
   "execution_count": null,
   "id": "614b3ba8",
   "metadata": {},
   "outputs": [],
   "source": [
    "list1.reverse()\n",
    "list1"
   ]
  },
  {
   "cell_type": "code",
   "execution_count": null,
   "id": "46e03dc5",
   "metadata": {},
   "outputs": [],
   "source": [
    "#list1.remove(\"buddy\")\n",
    "list1"
   ]
  },
  {
   "cell_type": "code",
   "execution_count": null,
   "id": "d019ca76",
   "metadata": {},
   "outputs": [],
   "source": [
    "list2.append(True)\n",
    "list2"
   ]
  },
  {
   "cell_type": "code",
   "execution_count": null,
   "id": "730e3a5d",
   "metadata": {},
   "outputs": [],
   "source": [
    "list2.count(3)"
   ]
  },
  {
   "cell_type": "code",
   "execution_count": null,
   "id": "82a0d51b",
   "metadata": {},
   "outputs": [],
   "source": [
    "len(list2)"
   ]
  },
  {
   "cell_type": "code",
   "execution_count": null,
   "id": "d7cdfca3",
   "metadata": {},
   "outputs": [],
   "source": [
    "list1.count(2.5)"
   ]
  },
  {
   "cell_type": "code",
   "execution_count": null,
   "id": "aa75b3ad",
   "metadata": {},
   "outputs": [],
   "source": [
    "list3 = [20,30,40,32,25,35,69,78,98,234,78,40, 98]\n",
    "list3"
   ]
  },
  {
   "cell_type": "code",
   "execution_count": null,
   "id": "3f5480c2",
   "metadata": {},
   "outputs": [],
   "source": [
    "len(list3)"
   ]
  },
  {
   "cell_type": "code",
   "execution_count": null,
   "id": "5145808b",
   "metadata": {},
   "outputs": [],
   "source": [
    "#sorting in list3\n",
    "list3.sort()\n",
    "list3"
   ]
  },
  {
   "cell_type": "code",
   "execution_count": null,
   "id": "f38c915b",
   "metadata": {},
   "outputs": [],
   "source": [
    "list3 * 1"
   ]
  },
  {
   "cell_type": "markdown",
   "id": "617949cf",
   "metadata": {},
   "source": [
    "## 3- Dictionaries\n"
   ]
  },
  {
   "cell_type": "markdown",
   "id": "cf10a515",
   "metadata": {},
   "source": [
    "- unordered collection of elements\n",
    "- Curly braces/Medium Bracket{}\n",
    "- Contains Key and Values  {\"Samosa\":30} or {\"Key\":Value}\n",
    "- Mutatable/ Values change"
   ]
  },
  {
   "cell_type": "code",
   "execution_count": null,
   "id": "39115457",
   "metadata": {},
   "outputs": [],
   "source": [
    "# Food and Their prices\n",
    "food1 = {\"Samosa\":30, \"Pakora\":15, \"Raita\":10, \"Salad\":50, \"Chicken Rolls\":30}\n",
    "food1"
   ]
  },
  {
   "cell_type": "code",
   "execution_count": null,
   "id": "eef8dd2d",
   "metadata": {},
   "outputs": [],
   "source": [
    "type(food1)"
   ]
  },
  {
   "cell_type": "code",
   "execution_count": null,
   "id": "58c3a3a8",
   "metadata": {},
   "outputs": [],
   "source": [
    "#extract data\n",
    "keys1 = food1.keys()\n",
    "keys1"
   ]
  },
  {
   "cell_type": "code",
   "execution_count": null,
   "id": "b4cdcba6",
   "metadata": {},
   "outputs": [],
   "source": [
    "#extract value\n",
    "values1 = food1.values()\n",
    "values1\n"
   ]
  },
  {
   "cell_type": "code",
   "execution_count": null,
   "id": "41d0475f",
   "metadata": {},
   "outputs": [],
   "source": [
    "#adding a new value\n",
    "food1[\"Dahi\"]=50\n",
    "food1"
   ]
  },
  {
   "cell_type": "code",
   "execution_count": null,
   "id": "e22a49a7",
   "metadata": {},
   "outputs": [],
   "source": [
    "#updating existin value\n",
    "# food1.update()\n",
    "food1[\"Dahi\"]= 80\n",
    "food1"
   ]
  },
  {
   "cell_type": "code",
   "execution_count": null,
   "id": "16f19e25",
   "metadata": {},
   "outputs": [],
   "source": [
    "food2 = {\"Dates\":50, \"Chocolates\":100, \"Meat\":500}\n",
    "food2"
   ]
  },
  {
   "cell_type": "code",
   "execution_count": null,
   "id": "f2793779",
   "metadata": {},
   "outputs": [],
   "source": [
    "#concatinate/ addition\n",
    "food1.update(food2)\n",
    "food1"
   ]
  },
  {
   "cell_type": "markdown",
   "id": "b88ffd3c",
   "metadata": {},
   "source": [
    "## 4- Sets"
   ]
  },
  {
   "cell_type": "markdown",
   "id": "6623db8e",
   "metadata": {},
   "source": [
    "- Curly braces/brackets\n",
    "- Unordered/ No duplicates\n",
    "- Unindexed\n",
    "- No boolean operators\n"
   ]
  },
  {
   "cell_type": "code",
   "execution_count": null,
   "id": "45241776",
   "metadata": {},
   "outputs": [],
   "source": [
    "s1 = {4, 5.6, \"Dilshad\", \"Okara\", True}\n",
    "s1"
   ]
  },
  {
   "cell_type": "code",
   "execution_count": null,
   "id": "5dd83010",
   "metadata": {},
   "outputs": [],
   "source": [
    "#adding\n",
    "s1.add(\"python\")\n",
    "s1"
   ]
  },
  {
   "cell_type": "code",
   "execution_count": null,
   "id": "9a04a016",
   "metadata": {},
   "outputs": [],
   "source": [
    "#remove\n",
    "s1.remove(\"Dilshad\")\n",
    "s1"
   ]
  },
  {
   "cell_type": "code",
   "execution_count": null,
   "id": "4a7c49c2",
   "metadata": {},
   "outputs": [],
   "source": [
    "s2 = {45, 67, 9, True, \"Okara\"}\n",
    "s2"
   ]
  },
  {
   "cell_type": "code",
   "execution_count": null,
   "id": "92f4d0ae",
   "metadata": {},
   "outputs": [],
   "source": [
    "### union of set\n",
    "s3= s1.union(s2)\n",
    "s3"
   ]
  },
  {
   "cell_type": "code",
   "execution_count": null,
   "id": "1aebe88c",
   "metadata": {},
   "outputs": [],
   "source": [
    "#intersection\n",
    "s3.intersection(s2)"
   ]
  },
  {
   "cell_type": "code",
   "execution_count": null,
   "id": "3f2ab863",
   "metadata": {},
   "outputs": [],
   "source": [
    "#difference\n",
    "s3.difference(s1)"
   ]
  }
 ],
 "metadata": {
  "kernelspec": {
   "display_name": "Python 3 (ipykernel)",
   "language": "python",
   "name": "python3"
  },
  "language_info": {
   "codemirror_mode": {
    "name": "ipython",
    "version": 3
   },
   "file_extension": ".py",
   "mimetype": "text/x-python",
   "name": "python",
   "nbconvert_exporter": "python",
   "pygments_lexer": "ipython3",
   "version": "3.9.7"
  }
 },
 "nbformat": 4,
 "nbformat_minor": 5
}
