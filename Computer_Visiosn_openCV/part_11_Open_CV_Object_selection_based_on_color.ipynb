{
 "cells": [
  {
   "cell_type": "code",
   "execution_count": 1,
   "metadata": {},
   "outputs": [],
   "source": [
    "# 21: How to detect specific colors inside python\n",
    "\n",
    "import cv2 as cv\n",
    "import numpy as np\n",
    "\n",
    "img = cv.imread(\"Resources/wrap.png\")\n",
    "\n",
    "# convert in hsv (Hue, Saturation, value)\n",
    "\n",
    "# hsv_img = cv.cvtColor(img, cv.COLOR_BGR2HSV)\n",
    "\n",
    "\n",
    "# sliders\n",
    "def slider():\n",
    "    pass\n",
    "\n",
    "path = \"Resources/img1.jpg\"\n",
    "cv.namedWindow(\"Bars\")\n",
    "cv.resizeWindow(\"Bars\", 300, 300)\n",
    "\n",
    "cv.createTrackbar(\"Hue min\", \"Bars\", 0,179,slider)\n",
    "cv.createTrackbar(\"Hue max\", \"Bars\", 179,179,slider)\n",
    "cv.createTrackbar(\"Sat min\", \"Bars\", 0,255,slider)\n",
    "cv.createTrackbar(\"Sat max\", \"Bars\", 255,255,slider)\n",
    "cv.createTrackbar(\"Val min\", \"Bars\", 0,255,slider)\n",
    "cv.createTrackbar(\"Val max\", \"Bars\", 255,255,slider)\n",
    "\n",
    "\n",
    "\n",
    "\n",
    "img = cv.imread(path)\n",
    "hsv_img = cv.cvtColor(img, cv.COLOR_BGR2HSV)\n",
    "\n",
    "# hue_min = cv.etTrackbarPos(\"Hue Min\", \"Bars\")\n",
    "# print(hue_min)\n",
    "\n",
    "while True:\n",
    "    img = cv.imread(path)\n",
    "    hsv_img = cv.cvtColor(img, cv.COLOR_BGR2HSV)\n",
    "    hue_min = cv.setTrackbarPos(\"Hue min\", \"Bars\")\n",
    "    hue_max = cv.setTrackbarPos(\"Hue max\", \"Bars\")\n",
    "    sat_min = cv.setTrackbarPos(\"Sat min\", \"Bars\")\n",
    "    sat_max = cv.setTrackbarPos(\"Sat max\", \"Bars\")\n",
    "    val_min = cv.setTrackbarPos(\"Val min\", \"Bars\")\n",
    "    val_max = cv.setTrackbarPos(\"Val max\", \"Bars\")\n",
    "    print(hue_min,hue_max,sat_min,sat_max,val_min, val_max)\n",
    "    \n",
    "    # to see these changes inside an image\n",
    "    lower = np.array([hue_min, sat_min,val_min])\n",
    "    upper = np.array([hue_max, sat_max,val_max])\n",
    "    mask_img = cv.inRange(hsv_img, lower, upper)\n",
    "    out_img = cv.bitwise_and(img, img, mask= mask_img)\n",
    "\n",
    "    cv.imshow(\"Original\", img)\n",
    "    cv.imshow(\"HSV\", hsv_img)\n",
    "    cv.imshow(\"Mask\", mask_img)\n",
    "    cv.imshow(\"Final Out\",out_img)\n",
    "    \n",
    "    if cv.waitKey(1) & 0xFF == ord(\"q\"):\n",
    "        break\n",
    "cv.destroyAllWindows()\n"
   ]
  }
 ],
 "metadata": {
  "interpreter": {
   "hash": "18356a1fc69854ab157a114089e0ab91e679603d3ee092b990c09ee18435de1b"
  },
  "kernelspec": {
   "display_name": "Python 3.10.1 64-bit",
   "language": "python",
   "name": "python3"
  },
  "language_info": {
   "codemirror_mode": {
    "name": "ipython",
    "version": 3
   },
   "file_extension": ".py",
   "mimetype": "text/x-python",
   "name": "python",
   "nbconvert_exporter": "python",
   "pygments_lexer": "ipython3",
   "version": "3.10.1"
  },
  "orig_nbformat": 4
 },
 "nbformat": 4,
 "nbformat_minor": 2
}
