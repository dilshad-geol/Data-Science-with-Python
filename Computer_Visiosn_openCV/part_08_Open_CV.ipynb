{
 "cells": [
  {
   "cell_type": "code",
   "execution_count": 4,
   "metadata": {},
   "outputs": [],
   "source": [
    "# 18: How to change the perspective of an image\n",
    "## making image straight\n",
    "\n",
    "import cv2 as cv\n",
    "import numpy as np\n",
    "\n",
    "img = cv.imread(\"Resources/wrap.png\")\n",
    "\n",
    "#defining points\n",
    "# print(img.shape)\n",
    "point1 = np.float32([[139,132], [46,310],[317,114],[422,320]])\n",
    "width = 476\n",
    "height = 577\n",
    "\n",
    "point2 = np.float32([[0,0],[width,0],[0,height], [width, height]])\n",
    "matrix = cv.getPerspectiveTransform(point1,point2)\n",
    "\n",
    "out_img = cv.warpPerspective(img, matrix, (width, height))\n",
    "\n",
    "cv.imshow(\"Original\", img)\n",
    "cv.imshow(\"Transformed\", out_img)\n",
    "cv.waitKey(0)\n",
    "cv.destroyAllWindows()"
   ]
  }
 ],
 "metadata": {
  "interpreter": {
   "hash": "18356a1fc69854ab157a114089e0ab91e679603d3ee092b990c09ee18435de1b"
  },
  "kernelspec": {
   "display_name": "Python 3.10.1 64-bit",
   "language": "python",
   "name": "python3"
  },
  "language_info": {
   "codemirror_mode": {
    "name": "ipython",
    "version": 3
   },
   "file_extension": ".py",
   "mimetype": "text/x-python",
   "name": "python",
   "nbconvert_exporter": "python",
   "pygments_lexer": "ipython3",
   "version": "3.10.1"
  },
  "orig_nbformat": 4
 },
 "nbformat": 4,
 "nbformat_minor": 2
}
