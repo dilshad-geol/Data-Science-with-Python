{
 "cells": [
  {
   "cell_type": "code",
   "execution_count": 4,
   "metadata": {},
   "outputs": [
    {
     "name": "stdout",
     "output_type": "stream",
     "text": [
      "138  134\n",
      "143  143\n",
      "134  124\n",
      "176  238\n",
      "92  293\n",
      "148  413\n",
      "261  309\n",
      "205  185\n",
      "283  396\n",
      "364  482\n",
      "76  568\n",
      "79  494\n",
      "183  370\n",
      "280  429\n",
      "235  478\n",
      "169  483\n",
      "68  314\n",
      "105  205\n",
      "64  157\n",
      "158  310\n",
      "159  310\n",
      "159  310\n",
      "159  310\n",
      "97  122\n",
      "138  132\n"
     ]
    }
   ],
   "source": [
    "# 19: How to find coordinates of an image or video \n",
    "# step 1\n",
    "import cv2 as cv\n",
    "import numpy as np\n",
    "\n",
    "# step 2 define function\n",
    "\n",
    "def find_coord(event,x,y,flags,params):\n",
    "    if event == cv.EVENT_LBUTTONDOWN:\n",
    "        # left mouse click\n",
    "        print(x,\"\",y)\n",
    "        # how to define or print on the same image\n",
    "        font = cv.FONT_HERSHEY_PLAIN\n",
    "        cv.putText(img,str(x) + \",\" + str(y), (x, y), font, 1,(255,0,0),thickness=2)\n",
    "        # show the text on image and img itself\n",
    "        cv.imshow(\"image\", img)\n",
    "    # for color finding\n",
    "    if event ==cv.EVENT_RBUTTONDOWN:\n",
    "        print(x,\"\", y)\n",
    "        font =cv.FONT_HERSHEY_SIMPLEX\n",
    "        b =img[y,x,0]\n",
    "        g = img[y,x,1]\n",
    "        r = img[y,x,2]\n",
    "        \n",
    "        cv.putText(img, str(b) +\",\" + str(g) +\",\" + str(r), (x,y), font, 1, (255,0,0), thickness=2)\n",
    "        cv.imshow(\"image\", img)\n",
    "# final function to read and display\n",
    "if __name__ == \"__main__\":\n",
    "    # reading an image\n",
    "    img = cv.imread(\"Resources/wrap.png\", 1)\n",
    "    # display the image\n",
    "    cv.imshow(\"Image\", img)\n",
    "    # setting call back function\n",
    "    cv.setMouseCallback(\"Image\", find_coord)\n",
    "    cv.waitKey(0)\n",
    "    cv.destroyAllWindows()\n",
    "\n"
   ]
  }
 ],
 "metadata": {
  "interpreter": {
   "hash": "18356a1fc69854ab157a114089e0ab91e679603d3ee092b990c09ee18435de1b"
  },
  "kernelspec": {
   "display_name": "Python 3.10.1 64-bit",
   "language": "python",
   "name": "python3"
  },
  "language_info": {
   "codemirror_mode": {
    "name": "ipython",
    "version": 3
   },
   "file_extension": ".py",
   "mimetype": "text/x-python",
   "name": "python",
   "nbconvert_exporter": "python",
   "pygments_lexer": "ipython3",
   "version": "3.10.1"
  },
  "orig_nbformat": 4
 },
 "nbformat": 4,
 "nbformat_minor": 2
}
