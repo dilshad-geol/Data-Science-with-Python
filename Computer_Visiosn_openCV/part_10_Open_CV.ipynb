{
 "cells": [
  {
   "cell_type": "code",
   "execution_count": 2,
   "metadata": {},
   "outputs": [],
   "source": [
    "# 20: Split your video into frames or into sequences\n",
    "\n",
    "import cv2 as cv\n",
    "import numpy as np\n",
    "\n",
    "cap =cv.VideoCapture(\"Resources/vid.mov\")\n",
    "\n",
    "frameNr = 0\n",
    "\n",
    "while (True):\n",
    "    success, frame = cap.read()\n",
    "    if success:\n",
    "        cv.imwrite(f\"Resources/frames/frame_{frameNr}.jpg\", frame)\n",
    "    else:\n",
    "        break\n",
    "    frameNr = frameNr+1\n",
    "cap.release()"
   ]
  }
 ],
 "metadata": {
  "interpreter": {
   "hash": "18356a1fc69854ab157a114089e0ab91e679603d3ee092b990c09ee18435de1b"
  },
  "kernelspec": {
   "display_name": "Python 3.10.1 64-bit",
   "language": "python",
   "name": "python3"
  },
  "language_info": {
   "codemirror_mode": {
    "name": "ipython",
    "version": 3
   },
   "file_extension": ".py",
   "mimetype": "text/x-python",
   "name": "python",
   "nbconvert_exporter": "python",
   "pygments_lexer": "ipython3",
   "version": "3.10.1"
  },
  "orig_nbformat": 4
 },
 "nbformat": 4,
 "nbformat_minor": 2
}
