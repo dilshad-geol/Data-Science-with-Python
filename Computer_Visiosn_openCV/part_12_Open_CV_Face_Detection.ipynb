{
 "cells": [
  {
   "cell_type": "code",
   "execution_count": 9,
   "metadata": {},
   "outputs": [],
   "source": [
    "# 22: FACEDEETECTION in images\n",
    "\n",
    "import cv2 as cv\n",
    "import numpy as np\n",
    "\n",
    "face_cascade= cv.CascadeClassifier(\"Resources/haarcascade_frontalface_default.xml\")\n",
    "\n",
    "img = cv.imread(\"Resources/me.jpg\")\n",
    "img = cv.resize(img, (370,585))\n",
    "\n",
    "# print(img.shape)\n",
    "gray_img = cv.cvtColor(img, cv.COLOR_BGR2GRAY)\n",
    "\n",
    "faces = face_cascade.detectMultiScale(gray_img, 1.1, 4)\n",
    "\n",
    "# draw a rectangle, \n",
    "\n",
    "for (x,y,w,h) in faces:\n",
    "    cv.rectangle(img,(x,y),(x+w, y+h), (255,0,0), 3)\n",
    "\n",
    "cv.imshow(\"Image\", img)\n",
    "cv.waitKey(0)\n",
    "cv.destroyAllWindows()"
   ]
  }
 ],
 "metadata": {
  "interpreter": {
   "hash": "18356a1fc69854ab157a114089e0ab91e679603d3ee092b990c09ee18435de1b"
  },
  "kernelspec": {
   "display_name": "Python 3.10.1 64-bit",
   "language": "python",
   "name": "python3"
  },
  "language_info": {
   "codemirror_mode": {
    "name": "ipython",
    "version": 3
   },
   "file_extension": ".py",
   "mimetype": "text/x-python",
   "name": "python",
   "nbconvert_exporter": "python",
   "pygments_lexer": "ipython3",
   "version": "3.10.1"
  },
  "orig_nbformat": 4
 },
 "nbformat": 4,
 "nbformat_minor": 2
}
